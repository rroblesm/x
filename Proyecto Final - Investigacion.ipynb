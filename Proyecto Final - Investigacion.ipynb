{
 "cells": [
  {
   "cell_type": "markdown",
   "id": "8e279366",
   "metadata": {},
   "source": [
    "# Proyecto Final de Inferencia Estadistica\n",
    "\n",
    "Hecho por:\n",
    "* Ian Groppe 198410\n",
    "* Andrea Díaz Granados 190332\n",
    "* Frank Rojas 197480\n",
    "* Gabriel Cruz 184586\n"
   ]
  },
  {
   "cell_type": "markdown",
   "id": "fe60e219",
   "metadata": {},
   "source": [
    "# Introducción\n",
    "---\n",
    "\n",
    "En este cuaderno de Jupyter, Usaremos el dataset \"spotify_songs.csv\", obtenido directamente del API de Spotify. Usaremos tecnicas de inferencia estadística para descubrir patrones en las canciones de Spotify, que es lo que hace que una cancion sea popular, atributos, artistas y sus interrelaciones. "
   ]
  },
  {
   "cell_type": "markdown",
   "id": "441bb57c",
   "metadata": {},
   "source": [
    "El dataset ya esta listos para usar, porque no ocupan preprocesamiento o limpieza para hacer analisis."
   ]
  },
  {
   "cell_type": "code",
   "execution_count": 240,
   "id": "d958f839",
   "metadata": {},
   "outputs": [],
   "source": [
    "import pandas as pd\n",
    "import numpy as np\n",
    "import seaborn as sns\n",
    "import scipy.stats as stats\n",
    "from scipy.stats import norm\n",
    "\n",
    "import plotly.express as px\n",
    "import plotly.graph_objects as go\n",
    "import matplotlib.pyplot as plt\n",
    "\n",
    "import zipfile\n",
    "import os"
   ]
  },
  {
   "cell_type": "code",
   "execution_count": 241,
   "id": "c8ac397b",
   "metadata": {},
   "outputs": [],
   "source": [
    "df = pd.read_csv(\"spotify_songs.csv\")"
   ]
  },
  {
   "cell_type": "markdown",
   "id": "c36892a9",
   "metadata": {},
   "source": [
    "# Análisis Exploratorio de Datos (EDA)\n",
    "---\n",
    "Para el EDA, visualizaremos diferentes aspectos del conjunto de datos de Spotify utilizando gráficos estadísticos.\n",
    "\n"
   ]
  },
  {
   "cell_type": "markdown",
   "id": "1fdbdcb6",
   "metadata": {},
   "source": [
    "1. **Distribucion de los datos**: Media, Moda, desviacion estandar, count (n), cuartiles, maximos y minimos."
   ]
  },
  {
   "cell_type": "code",
   "execution_count": 242,
   "id": "ca31f141",
   "metadata": {
    "scrolled": true
   },
   "outputs": [
    {
     "data": {
      "text/html": [
       "<div>\n",
       "<style scoped>\n",
       "    .dataframe tbody tr th:only-of-type {\n",
       "        vertical-align: middle;\n",
       "    }\n",
       "\n",
       "    .dataframe tbody tr th {\n",
       "        vertical-align: top;\n",
       "    }\n",
       "\n",
       "    .dataframe thead th {\n",
       "        text-align: right;\n",
       "    }\n",
       "</style>\n",
       "<table border=\"1\" class=\"dataframe\">\n",
       "  <thead>\n",
       "    <tr style=\"text-align: right;\">\n",
       "      <th></th>\n",
       "      <th>track_popularity</th>\n",
       "      <th>danceability</th>\n",
       "      <th>energy</th>\n",
       "      <th>key</th>\n",
       "      <th>loudness</th>\n",
       "      <th>mode</th>\n",
       "      <th>speechiness</th>\n",
       "      <th>acousticness</th>\n",
       "      <th>instrumentalness</th>\n",
       "      <th>liveness</th>\n",
       "      <th>valence</th>\n",
       "      <th>tempo</th>\n",
       "      <th>duration_ms</th>\n",
       "    </tr>\n",
       "  </thead>\n",
       "  <tbody>\n",
       "    <tr>\n",
       "      <th>count</th>\n",
       "      <td>32833.000000</td>\n",
       "      <td>32833.000000</td>\n",
       "      <td>32833.000000</td>\n",
       "      <td>32833.000000</td>\n",
       "      <td>32833.000000</td>\n",
       "      <td>32833.000000</td>\n",
       "      <td>32833.000000</td>\n",
       "      <td>32833.000000</td>\n",
       "      <td>32833.000000</td>\n",
       "      <td>32833.000000</td>\n",
       "      <td>32833.000000</td>\n",
       "      <td>32833.000000</td>\n",
       "      <td>32833.000000</td>\n",
       "    </tr>\n",
       "    <tr>\n",
       "      <th>mean</th>\n",
       "      <td>42.477081</td>\n",
       "      <td>0.654850</td>\n",
       "      <td>0.698619</td>\n",
       "      <td>5.374471</td>\n",
       "      <td>-6.719499</td>\n",
       "      <td>0.565711</td>\n",
       "      <td>0.107068</td>\n",
       "      <td>0.175334</td>\n",
       "      <td>0.084747</td>\n",
       "      <td>0.190176</td>\n",
       "      <td>0.510561</td>\n",
       "      <td>120.881132</td>\n",
       "      <td>225799.811622</td>\n",
       "    </tr>\n",
       "    <tr>\n",
       "      <th>std</th>\n",
       "      <td>24.984074</td>\n",
       "      <td>0.145085</td>\n",
       "      <td>0.180910</td>\n",
       "      <td>3.611657</td>\n",
       "      <td>2.988436</td>\n",
       "      <td>0.495671</td>\n",
       "      <td>0.101314</td>\n",
       "      <td>0.219633</td>\n",
       "      <td>0.224230</td>\n",
       "      <td>0.154317</td>\n",
       "      <td>0.233146</td>\n",
       "      <td>26.903624</td>\n",
       "      <td>59834.006182</td>\n",
       "    </tr>\n",
       "    <tr>\n",
       "      <th>min</th>\n",
       "      <td>0.000000</td>\n",
       "      <td>0.000000</td>\n",
       "      <td>0.000175</td>\n",
       "      <td>0.000000</td>\n",
       "      <td>-46.448000</td>\n",
       "      <td>0.000000</td>\n",
       "      <td>0.000000</td>\n",
       "      <td>0.000000</td>\n",
       "      <td>0.000000</td>\n",
       "      <td>0.000000</td>\n",
       "      <td>0.000000</td>\n",
       "      <td>0.000000</td>\n",
       "      <td>4000.000000</td>\n",
       "    </tr>\n",
       "    <tr>\n",
       "      <th>25%</th>\n",
       "      <td>24.000000</td>\n",
       "      <td>0.563000</td>\n",
       "      <td>0.581000</td>\n",
       "      <td>2.000000</td>\n",
       "      <td>-8.171000</td>\n",
       "      <td>0.000000</td>\n",
       "      <td>0.041000</td>\n",
       "      <td>0.015100</td>\n",
       "      <td>0.000000</td>\n",
       "      <td>0.092700</td>\n",
       "      <td>0.331000</td>\n",
       "      <td>99.960000</td>\n",
       "      <td>187819.000000</td>\n",
       "    </tr>\n",
       "    <tr>\n",
       "      <th>50%</th>\n",
       "      <td>45.000000</td>\n",
       "      <td>0.672000</td>\n",
       "      <td>0.721000</td>\n",
       "      <td>6.000000</td>\n",
       "      <td>-6.166000</td>\n",
       "      <td>1.000000</td>\n",
       "      <td>0.062500</td>\n",
       "      <td>0.080400</td>\n",
       "      <td>0.000016</td>\n",
       "      <td>0.127000</td>\n",
       "      <td>0.512000</td>\n",
       "      <td>121.984000</td>\n",
       "      <td>216000.000000</td>\n",
       "    </tr>\n",
       "    <tr>\n",
       "      <th>75%</th>\n",
       "      <td>62.000000</td>\n",
       "      <td>0.761000</td>\n",
       "      <td>0.840000</td>\n",
       "      <td>9.000000</td>\n",
       "      <td>-4.645000</td>\n",
       "      <td>1.000000</td>\n",
       "      <td>0.132000</td>\n",
       "      <td>0.255000</td>\n",
       "      <td>0.004830</td>\n",
       "      <td>0.248000</td>\n",
       "      <td>0.693000</td>\n",
       "      <td>133.918000</td>\n",
       "      <td>253585.000000</td>\n",
       "    </tr>\n",
       "    <tr>\n",
       "      <th>max</th>\n",
       "      <td>100.000000</td>\n",
       "      <td>0.983000</td>\n",
       "      <td>1.000000</td>\n",
       "      <td>11.000000</td>\n",
       "      <td>1.275000</td>\n",
       "      <td>1.000000</td>\n",
       "      <td>0.918000</td>\n",
       "      <td>0.994000</td>\n",
       "      <td>0.994000</td>\n",
       "      <td>0.996000</td>\n",
       "      <td>0.991000</td>\n",
       "      <td>239.440000</td>\n",
       "      <td>517810.000000</td>\n",
       "    </tr>\n",
       "  </tbody>\n",
       "</table>\n",
       "</div>"
      ],
      "text/plain": [
       "       track_popularity  danceability        energy           key  \\\n",
       "count      32833.000000  32833.000000  32833.000000  32833.000000   \n",
       "mean          42.477081      0.654850      0.698619      5.374471   \n",
       "std           24.984074      0.145085      0.180910      3.611657   \n",
       "min            0.000000      0.000000      0.000175      0.000000   \n",
       "25%           24.000000      0.563000      0.581000      2.000000   \n",
       "50%           45.000000      0.672000      0.721000      6.000000   \n",
       "75%           62.000000      0.761000      0.840000      9.000000   \n",
       "max          100.000000      0.983000      1.000000     11.000000   \n",
       "\n",
       "           loudness          mode   speechiness  acousticness  \\\n",
       "count  32833.000000  32833.000000  32833.000000  32833.000000   \n",
       "mean      -6.719499      0.565711      0.107068      0.175334   \n",
       "std        2.988436      0.495671      0.101314      0.219633   \n",
       "min      -46.448000      0.000000      0.000000      0.000000   \n",
       "25%       -8.171000      0.000000      0.041000      0.015100   \n",
       "50%       -6.166000      1.000000      0.062500      0.080400   \n",
       "75%       -4.645000      1.000000      0.132000      0.255000   \n",
       "max        1.275000      1.000000      0.918000      0.994000   \n",
       "\n",
       "       instrumentalness      liveness       valence         tempo  \\\n",
       "count      32833.000000  32833.000000  32833.000000  32833.000000   \n",
       "mean           0.084747      0.190176      0.510561    120.881132   \n",
       "std            0.224230      0.154317      0.233146     26.903624   \n",
       "min            0.000000      0.000000      0.000000      0.000000   \n",
       "25%            0.000000      0.092700      0.331000     99.960000   \n",
       "50%            0.000016      0.127000      0.512000    121.984000   \n",
       "75%            0.004830      0.248000      0.693000    133.918000   \n",
       "max            0.994000      0.996000      0.991000    239.440000   \n",
       "\n",
       "         duration_ms  \n",
       "count   32833.000000  \n",
       "mean   225799.811622  \n",
       "std     59834.006182  \n",
       "min      4000.000000  \n",
       "25%    187819.000000  \n",
       "50%    216000.000000  \n",
       "75%    253585.000000  \n",
       "max    517810.000000  "
      ]
     },
     "execution_count": 242,
     "metadata": {},
     "output_type": "execute_result"
    }
   ],
   "source": [
    "df.select_dtypes(['float', 'int']).describe() \n",
    "#solo podemos sacarle media, desviacion estandar, etc. a los datos numericos, por eso los filtramos"
   ]
  },
  {
   "cell_type": "markdown",
   "id": "4b37a5e6",
   "metadata": {},
   "source": [
    "2. **Diagramas de Caja**: Estos se utilizarán para visualizar la distribución de la popularidad de las canciones, que tan ruidosas son y la duracion. Los diagramas de caja se usan para comprender la mediana, los cuartiles e identificar cualquier posible valor atípico en los datos."
   ]
  },
  {
   "cell_type": "code",
   "execution_count": 243,
   "id": "cdcbe3cd",
   "metadata": {},
   "outputs": [
    {
     "data": {
      "image/png": "[encoded data removed]",
      "text/plain": [
       "<Figure size 1500x500 with 3 Axes>"
      ]
     },
     "metadata": {},
     "output_type": "display_data"
    }
   ],
   "source": [
    "plt.figure(figsize=(15, 5))\n",
    "plt.subplot(1, 3, 1)\n",
    "sns.boxplot(y=df['track_popularity'])\n",
    "plt.title('Popularidad de las Canciones')\n",
    "plt.subplot(1, 3, 2)\n",
    "sns.boxplot(y=df['loudness'])\n",
    "plt.title('Volumen')\n",
    "plt.subplot(1, 3, 3)\n",
    "sns.boxplot(y=df['duration_ms'])\n",
    "plt.title('Duracion')\n",
    "plt.show()"
   ]
  },
  {
   "cell_type": "markdown",
   "id": "0c8cb4df",
   "metadata": {},
   "source": [
    "3. **Gráficos de Densidad**: Para examinar la distribución de la popularidad de las Canciones, el volumen y el tempo. Los gráficos de densidad dan una idea de dónde se concentran los datos y la forma de la distribución."
   ]
  },
  {
   "cell_type": "code",
   "execution_count": 77,
   "id": "e9fb586e",
   "metadata": {},
   "outputs": [
    {
     "data": {
      "image/png": "[encoded data removed]",
      "text/plain": [
       "<Figure size 1200x600 with 1 Axes>"
      ]
     },
     "metadata": {},
     "output_type": "display_data"
    }
   ],
   "source": [
    "plt.figure(figsize=(12, 6))\n",
    "sns.kdeplot(df['track_popularity'], fill=True, label=\"Popularidad de las Canciones\")\n",
    "sns.kdeplot(df['loudness'], fill=True, label=\"Volumen\")\n",
    "plt.title('Gráficos de Densidad')\n",
    "plt.xlabel('Valor')\n",
    "plt.ylabel('Densidad')\n",
    "plt.legend()\n",
    "plt.show()"
   ]
  },
  {
   "cell_type": "code",
   "execution_count": 58,
   "id": "9a3d5463",
   "metadata": {},
   "outputs": [
    {
     "data": {
      "image/png": "[encoded data removed]",
      "text/plain": [
       "<Figure size 640x480 with 1 Axes>"
      ]
     },
     "metadata": {},
     "output_type": "display_data"
    }
   ],
   "source": [
    "sns.kdeplot(df['duration_ms'], fill=True, label=\"Duracion\")\n",
    "plt.title('Densidad')\n",
    "plt.xlabel('Valor')\n",
    "plt.ylabel('Densidad')\n",
    "plt.legend()\n",
    "plt.show()"
   ]
  },
  {
   "cell_type": "markdown",
   "id": "8951d87d",
   "metadata": {},
   "source": [
    "4. **Histogramas**: Se crearán para la popularidad, el volumen y el tempo para entender la distribución de frecuencias de estas características. Los histogramas son esenciales para visualizar cuán comunes son diferentes rangos de estas características."
   ]
  },
  {
   "cell_type": "code",
   "execution_count": 212,
   "id": "22c403ac",
   "metadata": {},
   "outputs": [
    {
     "data": {
      "image/png": "[encoded data removed]",
      "text/plain": [
       "<Figure size 1500x500 with 3 Axes>"
      ]
     },
     "metadata": {},
     "output_type": "display_data"
    }
   ],
   "source": [
    "plt.figure(figsize=(15, 5))\n",
    "plt.subplot(1, 3, 1)\n",
    "sns.histplot(df['track_popularity'], bins=30)\n",
    "plt.title('Histograma de Popularidad de las Canciones')\n",
    "plt.subplot(1, 3, 2)\n",
    "sns.histplot(df['loudness'], bins=30)\n",
    "plt.title('Histograma de Volumen')\n",
    "plt.subplot(1, 3, 3)\n",
    "sns.histplot(df['duration_ms'], bins=30)\n",
    "plt.title('Histograma de Duracion')\n",
    "plt.show()"
   ]
  },
  {
   "cell_type": "markdown",
   "id": "d3eafa64",
   "metadata": {},
   "source": [
    "5. **Gráficos QQ**: Para verificar la normalidad de las distribuciones. Este paso es crucial para determinara que atributos se les puede aplicar las pruebas estadísticas que asumen normalidad en las distribuciones de datos."
   ]
  },
  {
   "cell_type": "code",
   "execution_count": 61,
   "id": "791cf991",
   "metadata": {},
   "outputs": [
    {
     "data": {
      "image/png": "[encoded data removed]",
      "text/plain": [
       "<Figure size 1500x500 with 3 Axes>"
      ]
     },
     "metadata": {},
     "output_type": "display_data"
    }
   ],
   "source": [
    "plt.figure(figsize=(15, 5))\n",
    "plt.subplot(1, 3, 1)\n",
    "stats.probplot(df['track_popularity'], dist=\"norm\", plot=plt)\n",
    "plt.title('Gráfico QQ - Popularidad')\n",
    "plt.subplot(1, 3, 2)\n",
    "stats.probplot(df['loudness'], dist=\"norm\", plot=plt)\n",
    "plt.title('Gráfico QQ - Volumen')\n",
    "plt.subplot(1, 3, 3)\n",
    "stats.probplot(df['duration_ms'], dist=\"norm\", plot=plt)\n",
    "plt.title('Gráfico QQ - Duracion de Cancion')\n",
    "plt.show()"
   ]
  },
  {
   "cell_type": "markdown",
   "id": "5b385f3c",
   "metadata": {},
   "source": [
    "6. **Artistas y Sus Canciones Mas Populares:** \n",
    "Visualizacion por Medio de Treemap"
   ]
  },
  {
   "cell_type": "code",
   "execution_count": 248,
   "id": "4d1df52e",
   "metadata": {},
   "outputs": [
    {
     "data": {
      "application/vnd.plotly.v1+json": {
       "config": {
        "plotlyServerURL": "https://plot.ly"
       },
       "data": [
        {
         "branchvalues": "total",
         "domain": {
          "x": [
           0,
           1
          ],
          "y": [
           0,
           1
          ]
         },
         "hovertemplate": "labels=%{label}<br>track_popularity=%{value}<br>parent=%{parent}<br>id=%{id}<extra></extra>",
         "ids": [
          "Dan + Shay/10,000 Hours (with Justin Bieber)",
          "Maluma/11 PM",
          "Tainy/Adicto (with Anuel AA & Ozuna)",
          "Harry Styles/Adore You",
          "Mariah Carey/All I Want for Christmas Is You",
          "Lunay/Aventura",
          "Tyga/Ayy Macarena",
          "DaBaby/BOP",
          "Mustard/Ballin' (with Roddy Ricch)",
          "Juice WRLD/Bandit (with YoungBoy Never Broke Again)",
          "Ed Sheeran/Beautiful People (feat. Khalid)",
          "Lewis Capaldi/Before You Go",
          "Dalex/Bellaquita - Remix",
          "J Balvin/Blanco",
          "The Weeknd/Blinding Lights",
          "Lewis Capaldi/Bruises",
          "Bad Bunny/Callaita",
          "Pedro Capó/Calma - Remix",
          "Anuel AA/China",
          "ROSALÍA/Con Altura",
          "Daddy Yankee/Con Calma",
          "Justin Quiles/DJ No Pare (feat. Zion, Dalex, Lenny Tavárez) - Remix",
          "Sam Smith/Dancing With A Stranger (with Normani)",
          "Dua Lipa/Don't Start Now",
          "Harry Styles/Falling",
          "Trevor Daniel/Falling",
          "Rauw Alejandro/Fantasias",
          "Lil Uzi Vert/Futsal Shuffle 2020",
          "Lizzo/Good as Hell (feat. Ariana Grande) - Remix",
          "Post Malone/Goodbyes (feat. Young Thug)",
          "Halsey/Graveyard",
          "Travis Scott/HIGHEST IN THE ROOM",
          "Travis Scott/HIGHEST IN THE ROOM (feat. ROSALÍA & Lil Baby) - REMIX",
          "Marshmello/Happier",
          "Ellie Goulding/Hate Me (with Juice WRLD)",
          "The Weeknd/Heartless",
          "Kygo/Higher Love",
          "Dalex/Hola - Remix",
          "Sam Smith/How Do You Sleep?",
          "Ed Sheeran/I Don't Care (with Justin Bieber)",
          "JP Saxe/If The World Was Ending (feat. Julia Michaels)",
          "Reik/Indeciso",
          "XXXTENTACION/Jocelyn Flores",
          "Noah Cyrus/July",
          "J Balvin/LA CANCIÓN",
          "Y2K/Lalala",
          "Future/Life Is Good (feat. Drake)",
          "DJ Snake/Loco Contigo (feat. J. Balvin & Tyga)",
          "Selena Gomez/Look At Her Now",
          "MEDUZA/Lose Control",
          "Selena Gomez/Lose You To Love Me",
          "J. Cole/MIDDLE CHILD",
          "Maroon 5/Memories",
          "Drake/Money In The Grave (Drake ft. Rick Ross)",
          "XXXTENTACION/Moonlight",
          "Camila Cabello/My Oh My (feat. DaBaby)",
          "Niall Horan/Nice To Meet Ya",
          "Don Toliver/No Idea",
          "JACKBOYS/OUT WEST (feat. Young Thug)",
          "Lil Nas X/Old Town Road - Remix",
          "Sech/Otro Trago - Remix",
          "Piso 21/Pa' Olvidarme De Ella",
          "Red Velvet/Psycho",
          "J Balvin/QUE PRETENDES",
          "Daddy Yankee/Que Tire Pa Lante",
          "Rich Music LTD/Quizas",
          "The Black Eyed Peas/RITMO (Bad Boys For Life)",
          "Regard/Ride It",
          "XXXTENTACION/SAD!",
          "Travis Scott/SICKO MODE",
          "BROCKHAMPTON/SUGAR",
          "Doja Cat/Say So",
          "Shawn Mendes/Señorita",
          "Lady Gaga/Shallow",
          "Sech/Si Te Vas",
          "Lewis Capaldi/Someone You Loved",
          "Ed Sheeran/South of the Border (feat. Camila Cabello & Cardi B)",
          "Jonas Brothers/Sucker",
          "DaBaby/Suge",
          "YNW Melly/Suicidal",
          "Ava Max/Sweet but Psycho",
          "Post Malone/Take What You Want (feat. Ozzy Osbourne & Travis Scott)",
          "Roddy Ricch/The Box",
          "SHAED/Trampoline (with ZAYN)",
          "KAROL G/Tusa",
          "Camilo/Tutu",
          "Khalid/Up All Night",
          "DaBaby/VIBEZ",
          "Bad Bunny/Vete",
          "Harry Styles/Watermelon Sugar",
          "Halsey/Without Me",
          "Lil Baby/Woah",
          "ROSALÍA/Yo x Ti, Tu x Mi",
          "Justin Bieber/Yummy",
          "Billie Eilish/all the good girls go to hell",
          "Billie Eilish/bad guy",
          "Billie Eilish/everything i wanted",
          "blackbear/hot girl bummer",
          "Billie Eilish/lovely (with Khalid)",
          "Post Malone/rockstar (feat. 21 Savage)",
          "Anuel AA",
          "Ava Max",
          "BROCKHAMPTON",
          "Bad Bunny",
          "Billie Eilish",
          "Camila Cabello",
          "Camilo",
          "DJ Snake",
          "DaBaby",
          "Daddy Yankee",
          "Dalex",
          "Dan + Shay",
          "Doja Cat",
          "Don Toliver",
          "Drake",
          "Dua Lipa",
          "Ed Sheeran",
          "Ellie Goulding",
          "Future",
          "Halsey",
          "Harry Styles",
          "J Balvin",
          "J. Cole",
          "JACKBOYS",
          "JP Saxe",
          "Jonas Brothers",
          "Juice WRLD",
          "Justin Bieber",
          "Justin Quiles",
          "KAROL G",
          "Khalid",
          "Kygo",
          "Lady Gaga",
          "Lewis Capaldi",
          "Lil Baby",
          "Lil Nas X",
          "Lil Uzi Vert",
          "Lizzo",
          "Lunay",
          "MEDUZA",
          "Maluma",
          "Mariah Carey",
          "Maroon 5",
          "Marshmello",
          "Mustard",
          "Niall Horan",
          "Noah Cyrus",
          "Pedro Capó",
          "Piso 21",
          "Post Malone",
          "ROSALÍA",
          "Rauw Alejandro",
          "Red Velvet",
          "Regard",
          "Reik",
          "Rich Music LTD",
          "Roddy Ricch",
          "SHAED",
          "Sam Smith",
          "Sech",
          "Selena Gomez",
          "Shawn Mendes",
          "Tainy",
          "The Black Eyed Peas",
          "The Weeknd",
          "Travis Scott",
          "Trevor Daniel",
          "Tyga",
          "XXXTENTACION",
          "Y2K",
          "YNW Melly",
          "blackbear"
         ],
         "labels": [
          "10,000 Hours (with Justin Bieber)",
          "11 PM",
          "Adicto (with Anuel AA & Ozuna)",
          "Adore You",
          "All I Want for Christmas Is You",
          "Aventura",
          "Ayy Macarena",
          "BOP",
          "Ballin' (with Roddy Ricch)",
          "Bandit (with YoungBoy Never Broke Again)",
          "Beautiful People (feat. Khalid)",
          "Before You Go",
          "Bellaquita - Remix",
          "Blanco",
          "Blinding Lights",
          "Bruises",
          "Callaita",
          "Calma - Remix",
          "China",
          "Con Altura",
          "Con Calma",
          "DJ No Pare (feat. Zion, Dalex, Lenny Tavárez) - Remix",
          "Dancing With A Stranger (with Normani)",
          "Don't Start Now",
          "Falling",
          "Falling",
          "Fantasias",
          "Futsal Shuffle 2020",
          "Good as Hell (feat. Ariana Grande) - Remix",
          "Goodbyes (feat. Young Thug)",
          "Graveyard",
          "HIGHEST IN THE ROOM",
          "HIGHEST IN THE ROOM (feat. ROSALÍA & Lil Baby) - REMIX",
          "Happier",
          "Hate Me (with Juice WRLD)",
          "Heartless",
          "Higher Love",
          "Hola - Remix",
          "How Do You Sleep?",
          "I Don't Care (with Justin Bieber)",
          "If The World Was Ending (feat. Julia Michaels)",
          "Indeciso",
          "Jocelyn Flores",
          "July",
          "LA CANCIÓN",
          "Lalala",
          "Life Is Good (feat. Drake)",
          "Loco Contigo (feat. J. Balvin & Tyga)",
          "Look At Her Now",
          "Lose Control",
          "Lose You To Love Me",
          "MIDDLE CHILD",
          "Memories",
          "Money In The Grave (Drake ft. Rick Ross)",
          "Moonlight",
          "My Oh My (feat. DaBaby)",
          "Nice To Meet Ya",
          "No Idea",
          "OUT WEST (feat. Young Thug)",
          "Old Town Road - Remix",
          "Otro Trago - Remix",
          "Pa' Olvidarme De Ella",
          "Psycho",
          "QUE PRETENDES",
          "Que Tire Pa Lante",
          "Quizas",
          "RITMO (Bad Boys For Life)",
          "Ride It",
          "SAD!",
          "SICKO MODE",
          "SUGAR",
          "Say So",
          "Señorita",
          "Shallow",
          "Si Te Vas",
          "Someone You Loved",
          "South of the Border (feat. Camila Cabello & Cardi B)",
          "Sucker",
          "Suge",
          "Suicidal",
          "Sweet but Psycho",
          "Take What You Want (feat. Ozzy Osbourne & Travis Scott)",
          "The Box",
          "Trampoline (with ZAYN)",
          "Tusa",
          "Tutu",
          "Up All Night",
          "VIBEZ",
          "Vete",
          "Watermelon Sugar",
          "Without Me",
          "Woah",
          "Yo x Ti, Tu x Mi",
          "Yummy",
          "all the good girls go to hell",
          "bad guy",
          "everything i wanted",
          "hot girl bummer",
          "lovely (with Khalid)",
          "rockstar (feat. 21 Savage)",
          "Anuel AA",
          "Ava Max",
          "BROCKHAMPTON",
          "Bad Bunny",
          "Billie Eilish",
          "Camila Cabello",
          "Camilo",
          "DJ Snake",
          "DaBaby",
          "Daddy Yankee",
          "Dalex",
          "Dan + Shay",
          "Doja Cat",
          "Don Toliver",
          "Drake",
          "Dua Lipa",
          "Ed Sheeran",
          "Ellie Goulding",
          "Future",
          "Halsey",
          "Harry Styles",
          "J Balvin",
          "J. Cole",
          "JACKBOYS",
          "JP Saxe",
          "Jonas Brothers",
          "Juice WRLD",
          "Justin Bieber",
          "Justin Quiles",
          "KAROL G",
          "Khalid",
          "Kygo",
          "Lady Gaga",
          "Lewis Capaldi",
          "Lil Baby",
          "Lil Nas X",
          "Lil Uzi Vert",
          "Lizzo",
          "Lunay",
          "MEDUZA",
          "Maluma",
          "Mariah Carey",
          "Maroon 5",
          "Marshmello",
          "Mustard",
          "Niall Horan",
          "Noah Cyrus",
          "Pedro Capó",
          "Piso 21",
          "Post Malone",
          "ROSALÍA",
          "Rauw Alejandro",
          "Red Velvet",
          "Regard",
          "Reik",
          "Rich Music LTD",
          "Roddy Ricch",
          "SHAED",
          "Sam Smith",
          "Sech",
          "Selena Gomez",
          "Shawn Mendes",
          "Tainy",
          "The Black Eyed Peas",
          "The Weeknd",
          "Travis Scott",
          "Trevor Daniel",
          "Tyga",
          "XXXTENTACION",
          "Y2K",
          "YNW Melly",
          "blackbear"
         ],
         "name": "",
         "parents": [
          "Dan + Shay",
          "Maluma",
          "Tainy",
          "Harry Styles",
          "Mariah Carey",
          "Lunay",
          "Tyga",
          "DaBaby",
          "Mustard",
          "Juice WRLD",
          "Ed Sheeran",
          "Lewis Capaldi",
          "Dalex",
          "J Balvin",
          "The Weeknd",
          "Lewis Capaldi",
          "Bad Bunny",
          "Pedro Capó",
          "Anuel AA",
          "ROSALÍA",
          "Daddy Yankee",
          "Justin Quiles",
          "Sam Smith",
          "Dua Lipa",
          "Harry Styles",
          "Trevor Daniel",
          "Rauw Alejandro",
          "Lil Uzi Vert",
          "Lizzo",
          "Post Malone",
          "Halsey",
          "Travis Scott",
          "Travis Scott",
          "Marshmello",
          "Ellie Goulding",
          "The Weeknd",
          "Kygo",
          "Dalex",
          "Sam Smith",
          "Ed Sheeran",
          "JP Saxe",
          "Reik",
          "XXXTENTACION",
          "Noah Cyrus",
          "J Balvin",
          "Y2K",
          "Future",
          "DJ Snake",
          "Selena Gomez",
          "MEDUZA",
          "Selena Gomez",
          "J. Cole",
          "Maroon 5",
          "Drake",
          "XXXTENTACION",
          "Camila Cabello",
          "Niall Horan",
          "Don Toliver",
          "JACKBOYS",
          "Lil Nas X",
          "Sech",
          "Piso 21",
          "Red Velvet",
          "J Balvin",
          "Daddy Yankee",
          "Rich Music LTD",
          "The Black Eyed Peas",
          "Regard",
          "XXXTENTACION",
          "Travis Scott",
          "BROCKHAMPTON",
          "Doja Cat",
          "Shawn Mendes",
          "Lady Gaga",
          "Sech",
          "Lewis Capaldi",
          "Ed Sheeran",
          "Jonas Brothers",
          "DaBaby",
          "YNW Melly",
          "Ava Max",
          "Post Malone",
          "Roddy Ricch",
          "SHAED",
          "KAROL G",
          "Camilo",
          "Khalid",
          "DaBaby",
          "Bad Bunny",
          "Harry Styles",
          "Halsey",
          "Lil Baby",
          "ROSALÍA",
          "Justin Bieber",
          "Billie Eilish",
          "Billie Eilish",
          "Billie Eilish",
          "blackbear",
          "Billie Eilish",
          "Post Malone",
          "",
          "",
          "",
          "",
          "",
          "",
          "",
          "",
          "",
          "",
          "",
          "",
          "",
          "",
          "",
          "",
          "",
          "",
          "",
          "",
          "",
          "",
          "",
          "",
          "",
          "",
          "",
          "",
          "",
          "",
          "",
          "",
          "",
          "",
          "",
          "",
          "",
          "",
          "",
          "",
          "",
          "",
          "",
          "",
          "",
          "",
          "",
          "",
          "",
          "",
          "",
          "",
          "",
          "",
          "",
          "",
          "",
          "",
          "",
          "",
          "",
          "",
          "",
          "",
          "",
          "",
          "",
          "",
          "",
          "",
          "",
          ""
         ],
         "type": "treemap",
         "values": [
          91,
          86,
          90,
          89.33333333333333,
          90,
          89,
          91,
          93,
          90,
          92,
          86.77777777777777,
          87.375,
          87,
          88,
          98,
          86,
          90,
          86,
          93,
          87,
          87,
          86,
          87,
          97,
          88,
          97,
          92,
          91,
          89,
          90,
          87,
          94,
          89,
          89,
          88,
          93,
          87,
          91,
          91,
          87,
          88,
          88,
          86,
          88,
          91,
          91,
          93,
          88,
          86,
          91,
          90.6,
          86,
          98,
          88,
          86,
          94,
          87,
          92,
          87,
          90,
          86,
          86,
          87,
          86,
          90,
          88,
          96,
          94,
          87,
          87,
          88,
          88,
          90.6923076923077,
          88,
          88,
          94,
          91,
          87,
          87,
          90,
          87,
          87,
          98,
          90,
          98,
          88,
          87,
          88,
          93,
          88.85714285714286,
          88,
          88,
          88,
          95,
          86,
          95,
          97,
          94,
          89,
          88,
          93,
          87,
          88,
          183,
          367,
          94,
          88,
          88,
          268,
          177,
          178,
          91,
          88,
          92,
          88,
          97,
          264.77777777777777,
          88,
          93,
          175,
          266.1904761904762,
          265,
          86,
          87,
          88,
          87,
          92,
          95,
          86,
          98,
          87,
          87,
          88,
          267.375,
          88,
          90,
          91,
          89,
          89,
          91,
          86,
          90,
          98,
          89,
          90,
          87,
          88,
          86,
          86,
          265,
          175,
          92,
          87,
          94,
          88,
          88,
          98,
          90,
          178,
          174,
          176.6,
          90.6923076923077,
          90,
          96,
          191,
          270,
          97,
          91,
          259,
          91,
          90,
          94
         ]
        }
       ],
       "layout": {
        "legend": {
         "tracegroupgap": 0
        },
        "template": {
         "data": {
          "bar": [
           {
            "error_x": {
             "color": "#2a3f5f"
            },
            "error_y": {
             "color": "#2a3f5f"
            },
            "marker": {
             "line": {
              "color": "#E5ECF6",
              "width": 0.5
             },
             "pattern": {
              "fillmode": "overlay",
              "size": 10,
              "solidity": 0.2
             }
            },
            "type": "bar"
           }
          ],
          "barpolar": [
           {
            "marker": {
             "line": {
              "color": "#E5ECF6",
              "width": 0.5
             },
             "pattern": {
              "fillmode": "overlay",
              "size": 10,
              "solidity": 0.2
             }
            },
            "type": "barpolar"
           }
          ],
          "carpet": [
           {
            "aaxis": {
             "endlinecolor": "#2a3f5f",
             "gridcolor": "white",
             "linecolor": "white",
             "minorgridcolor": "white",
             "startlinecolor": "#2a3f5f"
            },
            "baxis": {
             "endlinecolor": "#2a3f5f",
             "gridcolor": "white",
             "linecolor": "white",
             "minorgridcolor": "white",
             "startlinecolor": "#2a3f5f"
            },
            "type": "carpet"
           }
          ],
          "choropleth": [
           {
            "colorbar": {
             "outlinewidth": 0,
             "ticks": ""
            },
            "type": "choropleth"
           }
          ],
          "contour": [
           {
            "colorbar": {
             "outlinewidth": 0,
             "ticks": ""
            },
            "colorscale": [
             [
              0,
              "#0d0887"
             ],
             [
              0.1111111111111111,
              "#46039f"
             ],
             [
              0.2222222222222222,
              "#7201a8"
             ],
             [
              0.3333333333333333,
              "#9c179e"
             ],
             [
              0.4444444444444444,
              "#bd3786"
             ],
             [
              0.5555555555555556,
              "#d8576b"
             ],
             [
              0.6666666666666666,
              "#ed7953"
             ],
             [
              0.7777777777777778,
              "#fb9f3a"
             ],
             [
              0.8888888888888888,
              "#fdca26"
             ],
             [
              1,
              "#f0f921"
             ]
            ],
            "type": "contour"
           }
          ],
          "contourcarpet": [
           {
            "colorbar": {
             "outlinewidth": 0,
             "ticks": ""
            },
            "type": "contourcarpet"
           }
          ],
          "heatmap": [
           {
            "colorbar": {
             "outlinewidth": 0,
             "ticks": ""
            },
            "colorscale": [
             [
              0,
              "#0d0887"
             ],
             [
              0.1111111111111111,
              "#46039f"
             ],
             [
              0.2222222222222222,
              "#7201a8"
             ],
             [
              0.3333333333333333,
              "#9c179e"
             ],
             [
              0.4444444444444444,
              "#bd3786"
             ],
             [
              0.5555555555555556,
              "#d8576b"
             ],
             [
              0.6666666666666666,
              "#ed7953"
             ],
             [
              0.7777777777777778,
              "#fb9f3a"
             ],
             [
              0.8888888888888888,
              "#fdca26"
             ],
             [
              1,
              "#f0f921"
             ]
            ],
            "type": "heatmap"
           }
          ],
          "heatmapgl": [
           {
            "colorbar": {
             "outlinewidth": 0,
             "ticks": ""
            },
            "colorscale": [
             [
              0,
              "#0d0887"
             ],
             [
              0.1111111111111111,
              "#46039f"
             ],
             [
              0.2222222222222222,
              "#7201a8"
             ],
             [
              0.3333333333333333,
              "#9c179e"
             ],
             [
              0.4444444444444444,
              "#bd3786"
             ],
             [
              0.5555555555555556,
              "#d8576b"
             ],
             [
              0.6666666666666666,
              "#ed7953"
             ],
             [
              0.7777777777777778,
              "#fb9f3a"
             ],
             [
              0.8888888888888888,
              "#fdca26"
             ],
             [
              1,
              "#f0f921"
             ]
            ],
            "type": "heatmapgl"
           }
          ],
          "histogram": [
           {
            "marker": {
             "pattern": {
              "fillmode": "overlay",
              "size": 10,
              "solidity": 0.2
             }
            },
            "type": "histogram"
           }
          ],
          "histogram2d": [
           {
            "colorbar": {
             "outlinewidth": 0,
             "ticks": ""
            },
            "colorscale": [
             [
              0,
              "#0d0887"
             ],
             [
              0.1111111111111111,
              "#46039f"
             ],
             [
              0.2222222222222222,
              "#7201a8"
             ],
             [
              0.3333333333333333,
              "#9c179e"
             ],
             [
              0.4444444444444444,
              "#bd3786"
             ],
             [
              0.5555555555555556,
              "#d8576b"
             ],
             [
              0.6666666666666666,
              "#ed7953"
             ],
             [
              0.7777777777777778,
              "#fb9f3a"
             ],
             [
              0.8888888888888888,
              "#fdca26"
             ],
             [
              1,
              "#f0f921"
             ]
            ],
            "type": "histogram2d"
           }
          ],
          "histogram2dcontour": [
           {
            "colorbar": {
             "outlinewidth": 0,
             "ticks": ""
            },
            "colorscale": [
             [
              0,
              "#0d0887"
             ],
             [
              0.1111111111111111,
              "#46039f"
             ],
             [
              0.2222222222222222,
              "#7201a8"
             ],
             [
              0.3333333333333333,
              "#9c179e"
             ],
             [
              0.4444444444444444,
              "#bd3786"
             ],
             [
              0.5555555555555556,
              "#d8576b"
             ],
             [
              0.6666666666666666,
              "#ed7953"
             ],
             [
              0.7777777777777778,
              "#fb9f3a"
             ],
             [
              0.8888888888888888,
              "#fdca26"
             ],
             [
              1,
              "#f0f921"
             ]
            ],
            "type": "histogram2dcontour"
           }
          ],
          "mesh3d": [
           {
            "colorbar": {
             "outlinewidth": 0,
             "ticks": ""
            },
            "type": "mesh3d"
           }
          ],
          "parcoords": [
           {
            "line": {
             "colorbar": {
              "outlinewidth": 0,
              "ticks": ""
             }
            },
            "type": "parcoords"
           }
          ],
          "pie": [
           {
            "automargin": true,
            "type": "pie"
           }
          ],
          "scatter": [
           {
            "fillpattern": {
             "fillmode": "overlay",
             "size": 10,
             "solidity": 0.2
            },
            "type": "scatter"
           }
          ],
          "scatter3d": [
           {
            "line": {
             "colorbar": {
              "outlinewidth": 0,
              "ticks": ""
             }
            },
            "marker": {
             "colorbar": {
              "outlinewidth": 0,
              "ticks": ""
             }
            },
            "type": "scatter3d"
           }
          ],
          "scattercarpet": [
           {
            "marker": {
             "colorbar": {
              "outlinewidth": 0,
              "ticks": ""
             }
            },
            "type": "scattercarpet"
           }
          ],
          "scattergeo": [
           {
            "marker": {
             "colorbar": {
              "outlinewidth": 0,
              "ticks": ""
             }
            },
            "type": "scattergeo"
           }
          ],
          "scattergl": [
           {
            "marker": {
             "colorbar": {
              "outlinewidth": 0,
              "ticks": ""
             }
            },
            "type": "scattergl"
           }
          ],
          "scattermapbox": [
           {
            "marker": {
             "colorbar": {
              "outlinewidth": 0,
              "ticks": ""
             }
            },
            "type": "scattermapbox"
           }
          ],
          "scatterpolar": [
           {
            "marker": {
             "colorbar": {
              "outlinewidth": 0,
              "ticks": ""
             }
            },
            "type": "scatterpolar"
           }
          ],
          "scatterpolargl": [
           {
            "marker": {
             "colorbar": {
              "outlinewidth": 0,
              "ticks": ""
             }
            },
            "type": "scatterpolargl"
           }
          ],
          "scatterternary": [
           {
            "marker": {
             "colorbar": {
              "outlinewidth": 0,
              "ticks": ""
             }
            },
            "type": "scatterternary"
           }
          ],
          "surface": [
           {
            "colorbar": {
             "outlinewidth": 0,
             "ticks": ""
            },
            "colorscale": [
             [
              0,
              "#0d0887"
             ],
             [
              0.1111111111111111,
              "#46039f"
             ],
             [
              0.2222222222222222,
              "#7201a8"
             ],
             [
              0.3333333333333333,
              "#9c179e"
             ],
             [
              0.4444444444444444,
              "#bd3786"
             ],
             [
              0.5555555555555556,
              "#d8576b"
             ],
             [
              0.6666666666666666,
              "#ed7953"
             ],
             [
              0.7777777777777778,
              "#fb9f3a"
             ],
             [
              0.8888888888888888,
              "#fdca26"
             ],
             [
              1,
              "#f0f921"
             ]
            ],
            "type": "surface"
           }
          ],
          "table": [
           {
            "cells": {
             "fill": {
              "color": "#EBF0F8"
             },
             "line": {
              "color": "white"
             }
            },
            "header": {
             "fill": {
              "color": "#C8D4E3"
             },
             "line": {
              "color": "white"
             }
            },
            "type": "table"
           }
          ]
         },
         "layout": {
          "annotationdefaults": {
           "arrowcolor": "#2a3f5f",
           "arrowhead": 0,
           "arrowwidth": 1
          },
          "autotypenumbers": "strict",
          "coloraxis": {
           "colorbar": {
            "outlinewidth": 0,
            "ticks": ""
           }
          },
          "colorscale": {
           "diverging": [
            [
             0,
             "#8e0152"
            ],
            [
             0.1,
             "#c51b7d"
            ],
            [
             0.2,
             "#de77ae"
            ],
            [
             0.3,
             "#f1b6da"
            ],
            [
             0.4,
             "#fde0ef"
            ],
            [
             0.5,
             "#f7f7f7"
            ],
            [
             0.6,
             "#e6f5d0"
            ],
            [
             0.7,
             "#b8e186"
            ],
            [
             0.8,
             "#7fbc41"
            ],
            [
             0.9,
             "#4d9221"
            ],
            [
             1,
             "#276419"
            ]
           ],
           "sequential": [
            [
             0,
             "#0d0887"
            ],
            [
             0.1111111111111111,
             "#46039f"
            ],
            [
             0.2222222222222222,
             "#7201a8"
            ],
            [
             0.3333333333333333,
             "#9c179e"
            ],
            [
             0.4444444444444444,
             "#bd3786"
            ],
            [
             0.5555555555555556,
             "#d8576b"
            ],
            [
             0.6666666666666666,
             "#ed7953"
            ],
            [
             0.7777777777777778,
             "#fb9f3a"
            ],
            [
             0.8888888888888888,
             "#fdca26"
            ],
            [
             1,
             "#f0f921"
            ]
           ],
           "sequentialminus": [
            [
             0,
             "#0d0887"
            ],
            [
             0.1111111111111111,
             "#46039f"
            ],
            [
             0.2222222222222222,
             "#7201a8"
            ],
            [
             0.3333333333333333,
             "#9c179e"
            ],
            [
             0.4444444444444444,
             "#bd3786"
            ],
            [
             0.5555555555555556,
             "#d8576b"
            ],
            [
             0.6666666666666666,
             "#ed7953"
            ],
            [
             0.7777777777777778,
             "#fb9f3a"
            ],
            [
             0.8888888888888888,
             "#fdca26"
            ],
            [
             1,
             "#f0f921"
            ]
           ]
          },
          "colorway": [
           "#636efa",
           "#EF553B",
           "#00cc96",
           "#ab63fa",
           "#FFA15A",
           "#19d3f3",
           "#FF6692",
           "#B6E880",
           "#FF97FF",
           "#FECB52"
          ],
          "font": {
           "color": "#2a3f5f"
          },
          "geo": {
           "bgcolor": "white",
           "lakecolor": "white",
           "landcolor": "#E5ECF6",
           "showlakes": true,
           "showland": true,
           "subunitcolor": "white"
          },
          "hoverlabel": {
           "align": "left"
          },
          "hovermode": "closest",
          "mapbox": {
           "style": "light"
          },
          "paper_bgcolor": "white",
          "plot_bgcolor": "#E5ECF6",
          "polar": {
           "angularaxis": {
            "gridcolor": "white",
            "linecolor": "white",
            "ticks": ""
           },
           "bgcolor": "#E5ECF6",
           "radialaxis": {
            "gridcolor": "white",
            "linecolor": "white",
            "ticks": ""
           }
          },
          "scene": {
           "xaxis": {
            "backgroundcolor": "#E5ECF6",
            "gridcolor": "white",
            "gridwidth": 2,
            "linecolor": "white",
            "showbackground": true,
            "ticks": "",
            "zerolinecolor": "white"
           },
           "yaxis": {
            "backgroundcolor": "#E5ECF6",
            "gridcolor": "white",
            "gridwidth": 2,
            "linecolor": "white",
            "showbackground": true,
            "ticks": "",
            "zerolinecolor": "white"
           },
           "zaxis": {
            "backgroundcolor": "#E5ECF6",
            "gridcolor": "white",
            "gridwidth": 2,
            "linecolor": "white",
            "showbackground": true,
            "ticks": "",
            "zerolinecolor": "white"
           }
          },
          "shapedefaults": {
           "line": {
            "color": "#2a3f5f"
           }
          },
          "ternary": {
           "aaxis": {
            "gridcolor": "white",
            "linecolor": "white",
            "ticks": ""
           },
           "baxis": {
            "gridcolor": "white",
            "linecolor": "white",
            "ticks": ""
           },
           "bgcolor": "#E5ECF6",
           "caxis": {
            "gridcolor": "white",
            "linecolor": "white",
            "ticks": ""
           }
          },
          "title": {
           "x": 0.05
          },
          "xaxis": {
           "automargin": true,
           "gridcolor": "white",
           "linecolor": "white",
           "ticks": "",
           "title": {
            "standoff": 15
           },
           "zerolinecolor": "white",
           "zerolinewidth": 2
          },
          "yaxis": {
           "automargin": true,
           "gridcolor": "white",
           "linecolor": "white",
           "ticks": "",
           "title": {
            "standoff": 15
           },
           "zerolinecolor": "white",
           "zerolinewidth": 2
          }
         }
        },
        "title": {
         "text": "Artistas y sus canciones mas populares"
        }
       }
      },
      "text/html": [
       "<div>                            <div id=\"4a80b41e-6beb-4fd1-a8b2-825ac04f1b2d\" class=\"plotly-graph-div\" style=\"height:525px; width:100%;\"></div>            <script type=\"text/javascript\">                require([\"plotly\"], function(Plotly) {                    window.PLOTLYENV=window.PLOTLYENV || {};                                    if (document.getElementById(\"4a80b41e-6beb-4fd1-a8b2-825ac04f1b2d\")) {                    Plotly.newPlot(                        \"4a80b41e-6beb-4fd1-a8b2-825ac04f1b2d\",                        [{\"branchvalues\":\"total\",\"domain\":{\"x\":[0.0,1.0],\"y\":[0.0,1.0]},\"hovertemplate\":\"labels=%{label}\\u003cbr\\u003etrack_popularity=%{value}\\u003cbr\\u003eparent=%{parent}\\u003cbr\\u003eid=%{id}\\u003cextra\\u003e\\u003c\\u002fextra\\u003e\",\"ids\":[\"Dan + Shay\\u002f10,000 Hours (with Justin Bieber)\",\"Maluma\\u002f11 PM\",\"Tainy\\u002fAdicto (with Anuel AA & Ozuna)\",\"Harry Styles\\u002fAdore You\",\"Mariah Carey\\u002fAll I Want for Christmas Is You\",\"Lunay\\u002fAventura\",\"Tyga\\u002fAyy Macarena\",\"DaBaby\\u002fBOP\",\"Mustard\\u002fBallin' (with Roddy Ricch)\",\"Juice WRLD\\u002fBandit (with YoungBoy Never Broke Again)\",\"Ed Sheeran\\u002fBeautiful People (feat. Khalid)\",\"Lewis Capaldi\\u002fBefore You Go\",\"Dalex\\u002fBellaquita - Remix\",\"J Balvin\\u002fBlanco\",\"The Weeknd\\u002fBlinding Lights\",\"Lewis Capaldi\\u002fBruises\",\"Bad Bunny\\u002fCallaita\",\"Pedro Cap\\u00f3\\u002fCalma - Remix\",\"Anuel AA\\u002fChina\",\"ROSAL\\u00cdA\\u002fCon Altura\",\"Daddy Yankee\\u002fCon Calma\",\"Justin Quiles\\u002fDJ No Pare (feat. Zion, Dalex, Lenny Tav\\u00e1rez) - Remix\",\"Sam Smith\\u002fDancing With A Stranger (with Normani)\",\"Dua Lipa\\u002fDon't Start Now\",\"Harry Styles\\u002fFalling\",\"Trevor Daniel\\u002fFalling\",\"Rauw Alejandro\\u002fFantasias\",\"Lil Uzi Vert\\u002fFutsal Shuffle 2020\",\"Lizzo\\u002fGood as Hell (feat. Ariana Grande) - Remix\",\"Post Malone\\u002fGoodbyes (feat. Young Thug)\",\"Halsey\\u002fGraveyard\",\"Travis Scott\\u002fHIGHEST IN THE ROOM\",\"Travis Scott\\u002fHIGHEST IN THE ROOM (feat. ROSAL\\u00cdA & Lil Baby) - REMIX\",\"Marshmello\\u002fHappier\",\"Ellie Goulding\\u002fHate Me (with Juice WRLD)\",\"The Weeknd\\u002fHeartless\",\"Kygo\\u002fHigher Love\",\"Dalex\\u002fHola - Remix\",\"Sam Smith\\u002fHow Do You Sleep?\",\"Ed Sheeran\\u002fI Don't Care (with Justin Bieber)\",\"JP Saxe\\u002fIf The World Was Ending (feat. Julia Michaels)\",\"Reik\\u002fIndeciso\",\"XXXTENTACION\\u002fJocelyn Flores\",\"Noah Cyrus\\u002fJuly\",\"J Balvin\\u002fLA CANCI\\u00d3N\",\"Y2K\\u002fLalala\",\"Future\\u002fLife Is Good (feat. Drake)\",\"DJ Snake\\u002fLoco Contigo (feat. J. Balvin & Tyga)\",\"Selena Gomez\\u002fLook At Her Now\",\"MEDUZA\\u002fLose Control\",\"Selena Gomez\\u002fLose You To Love Me\",\"J. Cole\\u002fMIDDLE CHILD\",\"Maroon 5\\u002fMemories\",\"Drake\\u002fMoney In The Grave (Drake ft. Rick Ross)\",\"XXXTENTACION\\u002fMoonlight\",\"Camila Cabello\\u002fMy Oh My (feat. DaBaby)\",\"Niall Horan\\u002fNice To Meet Ya\",\"Don Toliver\\u002fNo Idea\",\"JACKBOYS\\u002fOUT WEST (feat. Young Thug)\",\"Lil Nas X\\u002fOld Town Road - Remix\",\"Sech\\u002fOtro Trago - Remix\",\"Piso 21\\u002fPa' Olvidarme De Ella\",\"Red Velvet\\u002fPsycho\",\"J Balvin\\u002fQUE PRETENDES\",\"Daddy Yankee\\u002fQue Tire Pa Lante\",\"Rich Music LTD\\u002fQuizas\",\"The Black Eyed Peas\\u002fRITMO (Bad Boys For Life)\",\"Regard\\u002fRide It\",\"XXXTENTACION\\u002fSAD!\",\"Travis Scott\\u002fSICKO MODE\",\"BROCKHAMPTON\\u002fSUGAR\",\"Doja Cat\\u002fSay So\",\"Shawn Mendes\\u002fSe\\u00f1orita\",\"Lady Gaga\\u002fShallow\",\"Sech\\u002fSi Te Vas\",\"Lewis Capaldi\\u002fSomeone You Loved\",\"Ed Sheeran\\u002fSouth of the Border (feat. Camila Cabello & Cardi B)\",\"Jonas Brothers\\u002fSucker\",\"DaBaby\\u002fSuge\",\"YNW Melly\\u002fSuicidal\",\"Ava Max\\u002fSweet but Psycho\",\"Post Malone\\u002fTake What You Want (feat. Ozzy Osbourne & Travis Scott)\",\"Roddy Ricch\\u002fThe Box\",\"SHAED\\u002fTrampoline (with ZAYN)\",\"KAROL G\\u002fTusa\",\"Camilo\\u002fTutu\",\"Khalid\\u002fUp All Night\",\"DaBaby\\u002fVIBEZ\",\"Bad Bunny\\u002fVete\",\"Harry Styles\\u002fWatermelon Sugar\",\"Halsey\\u002fWithout Me\",\"Lil Baby\\u002fWoah\",\"ROSAL\\u00cdA\\u002fYo x Ti, Tu x Mi\",\"Justin Bieber\\u002fYummy\",\"Billie Eilish\\u002fall the good girls go to hell\",\"Billie Eilish\\u002fbad guy\",\"Billie Eilish\\u002feverything i wanted\",\"blackbear\\u002fhot girl bummer\",\"Billie Eilish\\u002flovely (with Khalid)\",\"Post Malone\\u002frockstar (feat. 21 Savage)\",\"Anuel AA\",\"Ava Max\",\"BROCKHAMPTON\",\"Bad Bunny\",\"Billie Eilish\",\"Camila Cabello\",\"Camilo\",\"DJ Snake\",\"DaBaby\",\"Daddy Yankee\",\"Dalex\",\"Dan + Shay\",\"Doja Cat\",\"Don Toliver\",\"Drake\",\"Dua Lipa\",\"Ed Sheeran\",\"Ellie Goulding\",\"Future\",\"Halsey\",\"Harry Styles\",\"J Balvin\",\"J. Cole\",\"JACKBOYS\",\"JP Saxe\",\"Jonas Brothers\",\"Juice WRLD\",\"Justin Bieber\",\"Justin Quiles\",\"KAROL G\",\"Khalid\",\"Kygo\",\"Lady Gaga\",\"Lewis Capaldi\",\"Lil Baby\",\"Lil Nas X\",\"Lil Uzi Vert\",\"Lizzo\",\"Lunay\",\"MEDUZA\",\"Maluma\",\"Mariah Carey\",\"Maroon 5\",\"Marshmello\",\"Mustard\",\"Niall Horan\",\"Noah Cyrus\",\"Pedro Cap\\u00f3\",\"Piso 21\",\"Post Malone\",\"ROSAL\\u00cdA\",\"Rauw Alejandro\",\"Red Velvet\",\"Regard\",\"Reik\",\"Rich Music LTD\",\"Roddy Ricch\",\"SHAED\",\"Sam Smith\",\"Sech\",\"Selena Gomez\",\"Shawn Mendes\",\"Tainy\",\"The Black Eyed Peas\",\"The Weeknd\",\"Travis Scott\",\"Trevor Daniel\",\"Tyga\",\"XXXTENTACION\",\"Y2K\",\"YNW Melly\",\"blackbear\"],\"labels\":[\"10,000 Hours (with Justin Bieber)\",\"11 PM\",\"Adicto (with Anuel AA & Ozuna)\",\"Adore You\",\"All I Want for Christmas Is You\",\"Aventura\",\"Ayy Macarena\",\"BOP\",\"Ballin' (with Roddy Ricch)\",\"Bandit (with YoungBoy Never Broke Again)\",\"Beautiful People (feat. Khalid)\",\"Before You Go\",\"Bellaquita - Remix\",\"Blanco\",\"Blinding Lights\",\"Bruises\",\"Callaita\",\"Calma - Remix\",\"China\",\"Con Altura\",\"Con Calma\",\"DJ No Pare (feat. Zion, Dalex, Lenny Tav\\u00e1rez) - Remix\",\"Dancing With A Stranger (with Normani)\",\"Don't Start Now\",\"Falling\",\"Falling\",\"Fantasias\",\"Futsal Shuffle 2020\",\"Good as Hell (feat. Ariana Grande) - Remix\",\"Goodbyes (feat. Young Thug)\",\"Graveyard\",\"HIGHEST IN THE ROOM\",\"HIGHEST IN THE ROOM (feat. ROSAL\\u00cdA & Lil Baby) - REMIX\",\"Happier\",\"Hate Me (with Juice WRLD)\",\"Heartless\",\"Higher Love\",\"Hola - Remix\",\"How Do You Sleep?\",\"I Don't Care (with Justin Bieber)\",\"If The World Was Ending (feat. Julia Michaels)\",\"Indeciso\",\"Jocelyn Flores\",\"July\",\"LA CANCI\\u00d3N\",\"Lalala\",\"Life Is Good (feat. Drake)\",\"Loco Contigo (feat. J. Balvin & Tyga)\",\"Look At Her Now\",\"Lose Control\",\"Lose You To Love Me\",\"MIDDLE CHILD\",\"Memories\",\"Money In The Grave (Drake ft. Rick Ross)\",\"Moonlight\",\"My Oh My (feat. DaBaby)\",\"Nice To Meet Ya\",\"No Idea\",\"OUT WEST (feat. Young Thug)\",\"Old Town Road - Remix\",\"Otro Trago - Remix\",\"Pa' Olvidarme De Ella\",\"Psycho\",\"QUE PRETENDES\",\"Que Tire Pa Lante\",\"Quizas\",\"RITMO (Bad Boys For Life)\",\"Ride It\",\"SAD!\",\"SICKO MODE\",\"SUGAR\",\"Say So\",\"Se\\u00f1orita\",\"Shallow\",\"Si Te Vas\",\"Someone You Loved\",\"South of the Border (feat. Camila Cabello & Cardi B)\",\"Sucker\",\"Suge\",\"Suicidal\",\"Sweet but Psycho\",\"Take What You Want (feat. Ozzy Osbourne & Travis Scott)\",\"The Box\",\"Trampoline (with ZAYN)\",\"Tusa\",\"Tutu\",\"Up All Night\",\"VIBEZ\",\"Vete\",\"Watermelon Sugar\",\"Without Me\",\"Woah\",\"Yo x Ti, Tu x Mi\",\"Yummy\",\"all the good girls go to hell\",\"bad guy\",\"everything i wanted\",\"hot girl bummer\",\"lovely (with Khalid)\",\"rockstar (feat. 21 Savage)\",\"Anuel AA\",\"Ava Max\",\"BROCKHAMPTON\",\"Bad Bunny\",\"Billie Eilish\",\"Camila Cabello\",\"Camilo\",\"DJ Snake\",\"DaBaby\",\"Daddy Yankee\",\"Dalex\",\"Dan + Shay\",\"Doja Cat\",\"Don Toliver\",\"Drake\",\"Dua Lipa\",\"Ed Sheeran\",\"Ellie Goulding\",\"Future\",\"Halsey\",\"Harry Styles\",\"J Balvin\",\"J. Cole\",\"JACKBOYS\",\"JP Saxe\",\"Jonas Brothers\",\"Juice WRLD\",\"Justin Bieber\",\"Justin Quiles\",\"KAROL G\",\"Khalid\",\"Kygo\",\"Lady Gaga\",\"Lewis Capaldi\",\"Lil Baby\",\"Lil Nas X\",\"Lil Uzi Vert\",\"Lizzo\",\"Lunay\",\"MEDUZA\",\"Maluma\",\"Mariah Carey\",\"Maroon 5\",\"Marshmello\",\"Mustard\",\"Niall Horan\",\"Noah Cyrus\",\"Pedro Cap\\u00f3\",\"Piso 21\",\"Post Malone\",\"ROSAL\\u00cdA\",\"Rauw Alejandro\",\"Red Velvet\",\"Regard\",\"Reik\",\"Rich Music LTD\",\"Roddy Ricch\",\"SHAED\",\"Sam Smith\",\"Sech\",\"Selena Gomez\",\"Shawn Mendes\",\"Tainy\",\"The Black Eyed Peas\",\"The Weeknd\",\"Travis Scott\",\"Trevor Daniel\",\"Tyga\",\"XXXTENTACION\",\"Y2K\",\"YNW Melly\",\"blackbear\"],\"name\":\"\",\"parents\":[\"Dan + Shay\",\"Maluma\",\"Tainy\",\"Harry Styles\",\"Mariah Carey\",\"Lunay\",\"Tyga\",\"DaBaby\",\"Mustard\",\"Juice WRLD\",\"Ed Sheeran\",\"Lewis Capaldi\",\"Dalex\",\"J Balvin\",\"The Weeknd\",\"Lewis Capaldi\",\"Bad Bunny\",\"Pedro Cap\\u00f3\",\"Anuel AA\",\"ROSAL\\u00cdA\",\"Daddy Yankee\",\"Justin Quiles\",\"Sam Smith\",\"Dua Lipa\",\"Harry Styles\",\"Trevor Daniel\",\"Rauw Alejandro\",\"Lil Uzi Vert\",\"Lizzo\",\"Post Malone\",\"Halsey\",\"Travis Scott\",\"Travis Scott\",\"Marshmello\",\"Ellie Goulding\",\"The Weeknd\",\"Kygo\",\"Dalex\",\"Sam Smith\",\"Ed Sheeran\",\"JP Saxe\",\"Reik\",\"XXXTENTACION\",\"Noah Cyrus\",\"J Balvin\",\"Y2K\",\"Future\",\"DJ Snake\",\"Selena Gomez\",\"MEDUZA\",\"Selena Gomez\",\"J. Cole\",\"Maroon 5\",\"Drake\",\"XXXTENTACION\",\"Camila Cabello\",\"Niall Horan\",\"Don Toliver\",\"JACKBOYS\",\"Lil Nas X\",\"Sech\",\"Piso 21\",\"Red Velvet\",\"J Balvin\",\"Daddy Yankee\",\"Rich Music LTD\",\"The Black Eyed Peas\",\"Regard\",\"XXXTENTACION\",\"Travis Scott\",\"BROCKHAMPTON\",\"Doja Cat\",\"Shawn Mendes\",\"Lady Gaga\",\"Sech\",\"Lewis Capaldi\",\"Ed Sheeran\",\"Jonas Brothers\",\"DaBaby\",\"YNW Melly\",\"Ava Max\",\"Post Malone\",\"Roddy Ricch\",\"SHAED\",\"KAROL G\",\"Camilo\",\"Khalid\",\"DaBaby\",\"Bad Bunny\",\"Harry Styles\",\"Halsey\",\"Lil Baby\",\"ROSAL\\u00cdA\",\"Justin Bieber\",\"Billie Eilish\",\"Billie Eilish\",\"Billie Eilish\",\"blackbear\",\"Billie Eilish\",\"Post Malone\",\"\",\"\",\"\",\"\",\"\",\"\",\"\",\"\",\"\",\"\",\"\",\"\",\"\",\"\",\"\",\"\",\"\",\"\",\"\",\"\",\"\",\"\",\"\",\"\",\"\",\"\",\"\",\"\",\"\",\"\",\"\",\"\",\"\",\"\",\"\",\"\",\"\",\"\",\"\",\"\",\"\",\"\",\"\",\"\",\"\",\"\",\"\",\"\",\"\",\"\",\"\",\"\",\"\",\"\",\"\",\"\",\"\",\"\",\"\",\"\",\"\",\"\",\"\",\"\",\"\",\"\",\"\",\"\",\"\",\"\",\"\",\"\"],\"values\":[91.0,86.0,90.0,89.33333333333333,90.0,89.0,91.0,93.0,90.0,92.0,86.77777777777777,87.375,87.0,88.0,98.0,86.0,90.0,86.0,93.0,87.0,87.0,86.0,87.0,97.0,88.0,97.0,92.0,91.0,89.0,90.0,87.0,94.0,89.0,89.0,88.0,93.0,87.0,91.0,91.0,87.0,88.0,88.0,86.0,88.0,91.0,91.0,93.0,88.0,86.0,91.0,90.6,86.0,98.0,88.0,86.0,94.0,87.0,92.0,87.0,90.0,86.0,86.0,87.0,86.0,90.0,88.0,96.0,94.0,87.0,87.0,88.0,88.0,90.6923076923077,88.0,88.0,94.0,91.0,87.0,87.0,90.0,87.0,87.0,98.0,90.0,98.0,88.0,87.0,88.0,93.0,88.85714285714286,88.0,88.0,88.0,95.0,86.0,95.0,97.0,94.0,89.0,88.0,93.0,87.0,88.0,183.0,367.0,94.0,88.0,88.0,268.0,177.0,178.0,91.0,88.0,92.0,88.0,97.0,264.77777777777777,88.0,93.0,175.0,266.1904761904762,265.0,86.0,87.0,88.0,87.0,92.0,95.0,86.0,98.0,87.0,87.0,88.0,267.375,88.0,90.0,91.0,89.0,89.0,91.0,86.0,90.0,98.0,89.0,90.0,87.0,88.0,86.0,86.0,265.0,175.0,92.0,87.0,94.0,88.0,88.0,98.0,90.0,178.0,174.0,176.6,90.6923076923077,90.0,96.0,191.0,270.0,97.0,91.0,259.0,91.0,90.0,94.0],\"type\":\"treemap\"}],                        {\"template\":{\"data\":{\"histogram2dcontour\":[{\"type\":\"histogram2dcontour\",\"colorbar\":{\"outlinewidth\":0,\"ticks\":\"\"},\"colorscale\":[[0.0,\"#0d0887\"],[0.1111111111111111,\"#46039f\"],[0.2222222222222222,\"#7201a8\"],[0.3333333333333333,\"#9c179e\"],[0.4444444444444444,\"#bd3786\"],[0.5555555555555556,\"#d8576b\"],[0.6666666666666666,\"#ed7953\"],[0.7777777777777778,\"#fb9f3a\"],[0.8888888888888888,\"#fdca26\"],[1.0,\"#f0f921\"]]}],\"choropleth\":[{\"type\":\"choropleth\",\"colorbar\":{\"outlinewidth\":0,\"ticks\":\"\"}}],\"histogram2d\":[{\"type\":\"histogram2d\",\"colorbar\":{\"outlinewidth\":0,\"ticks\":\"\"},\"colorscale\":[[0.0,\"#0d0887\"],[0.1111111111111111,\"#46039f\"],[0.2222222222222222,\"#7201a8\"],[0.3333333333333333,\"#9c179e\"],[0.4444444444444444,\"#bd3786\"],[0.5555555555555556,\"#d8576b\"],[0.6666666666666666,\"#ed7953\"],[0.7777777777777778,\"#fb9f3a\"],[0.8888888888888888,\"#fdca26\"],[1.0,\"#f0f921\"]]}],\"heatmap\":[{\"type\":\"heatmap\",\"colorbar\":{\"outlinewidth\":0,\"ticks\":\"\"},\"colorscale\":[[0.0,\"#0d0887\"],[0.1111111111111111,\"#46039f\"],[0.2222222222222222,\"#7201a8\"],[0.3333333333333333,\"#9c179e\"],[0.4444444444444444,\"#bd3786\"],[0.5555555555555556,\"#d8576b\"],[0.6666666666666666,\"#ed7953\"],[0.7777777777777778,\"#fb9f3a\"],[0.8888888888888888,\"#fdca26\"],[1.0,\"#f0f921\"]]}],\"heatmapgl\":[{\"type\":\"heatmapgl\",\"colorbar\":{\"outlinewidth\":0,\"ticks\":\"\"},\"colorscale\":[[0.0,\"#0d0887\"],[0.1111111111111111,\"#46039f\"],[0.2222222222222222,\"#7201a8\"],[0.3333333333333333,\"#9c179e\"],[0.4444444444444444,\"#bd3786\"],[0.5555555555555556,\"#d8576b\"],[0.6666666666666666,\"#ed7953\"],[0.7777777777777778,\"#fb9f3a\"],[0.8888888888888888,\"#fdca26\"],[1.0,\"#f0f921\"]]}],\"contourcarpet\":[{\"type\":\"contourcarpet\",\"colorbar\":{\"outlinewidth\":0,\"ticks\":\"\"}}],\"contour\":[{\"type\":\"contour\",\"colorbar\":{\"outlinewidth\":0,\"ticks\":\"\"},\"colorscale\":[[0.0,\"#0d0887\"],[0.1111111111111111,\"#46039f\"],[0.2222222222222222,\"#7201a8\"],[0.3333333333333333,\"#9c179e\"],[0.4444444444444444,\"#bd3786\"],[0.5555555555555556,\"#d8576b\"],[0.6666666666666666,\"#ed7953\"],[0.7777777777777778,\"#fb9f3a\"],[0.8888888888888888,\"#fdca26\"],[1.0,\"#f0f921\"]]}],\"surface\":[{\"type\":\"surface\",\"colorbar\":{\"outlinewidth\":0,\"ticks\":\"\"},\"colorscale\":[[0.0,\"#0d0887\"],[0.1111111111111111,\"#46039f\"],[0.2222222222222222,\"#7201a8\"],[0.3333333333333333,\"#9c179e\"],[0.4444444444444444,\"#bd3786\"],[0.5555555555555556,\"#d8576b\"],[0.6666666666666666,\"#ed7953\"],[0.7777777777777778,\"#fb9f3a\"],[0.8888888888888888,\"#fdca26\"],[1.0,\"#f0f921\"]]}],\"mesh3d\":[{\"type\":\"mesh3d\",\"colorbar\":{\"outlinewidth\":0,\"ticks\":\"\"}}],\"scatter\":[{\"fillpattern\":{\"fillmode\":\"overlay\",\"size\":10,\"solidity\":0.2},\"type\":\"scatter\"}],\"parcoords\":[{\"type\":\"parcoords\",\"line\":{\"colorbar\":{\"outlinewidth\":0,\"ticks\":\"\"}}}],\"scatterpolargl\":[{\"type\":\"scatterpolargl\",\"marker\":{\"colorbar\":{\"outlinewidth\":0,\"ticks\":\"\"}}}],\"bar\":[{\"error_x\":{\"color\":\"#2a3f5f\"},\"error_y\":{\"color\":\"#2a3f5f\"},\"marker\":{\"line\":{\"color\":\"#E5ECF6\",\"width\":0.5},\"pattern\":{\"fillmode\":\"overlay\",\"size\":10,\"solidity\":0.2}},\"type\":\"bar\"}],\"scattergeo\":[{\"type\":\"scattergeo\",\"marker\":{\"colorbar\":{\"outlinewidth\":0,\"ticks\":\"\"}}}],\"scatterpolar\":[{\"type\":\"scatterpolar\",\"marker\":{\"colorbar\":{\"outlinewidth\":0,\"ticks\":\"\"}}}],\"histogram\":[{\"marker\":{\"pattern\":{\"fillmode\":\"overlay\",\"size\":10,\"solidity\":0.2}},\"type\":\"histogram\"}],\"scattergl\":[{\"type\":\"scattergl\",\"marker\":{\"colorbar\":{\"outlinewidth\":0,\"ticks\":\"\"}}}],\"scatter3d\":[{\"type\":\"scatter3d\",\"line\":{\"colorbar\":{\"outlinewidth\":0,\"ticks\":\"\"}},\"marker\":{\"colorbar\":{\"outlinewidth\":0,\"ticks\":\"\"}}}],\"scattermapbox\":[{\"type\":\"scattermapbox\",\"marker\":{\"colorbar\":{\"outlinewidth\":0,\"ticks\":\"\"}}}],\"scatterternary\":[{\"type\":\"scatterternary\",\"marker\":{\"colorbar\":{\"outlinewidth\":0,\"ticks\":\"\"}}}],\"scattercarpet\":[{\"type\":\"scattercarpet\",\"marker\":{\"colorbar\":{\"outlinewidth\":0,\"ticks\":\"\"}}}],\"carpet\":[{\"aaxis\":{\"endlinecolor\":\"#2a3f5f\",\"gridcolor\":\"white\",\"linecolor\":\"white\",\"minorgridcolor\":\"white\",\"startlinecolor\":\"#2a3f5f\"},\"baxis\":{\"endlinecolor\":\"#2a3f5f\",\"gridcolor\":\"white\",\"linecolor\":\"white\",\"minorgridcolor\":\"white\",\"startlinecolor\":\"#2a3f5f\"},\"type\":\"carpet\"}],\"table\":[{\"cells\":{\"fill\":{\"color\":\"#EBF0F8\"},\"line\":{\"color\":\"white\"}},\"header\":{\"fill\":{\"color\":\"#C8D4E3\"},\"line\":{\"color\":\"white\"}},\"type\":\"table\"}],\"barpolar\":[{\"marker\":{\"line\":{\"color\":\"#E5ECF6\",\"width\":0.5},\"pattern\":{\"fillmode\":\"overlay\",\"size\":10,\"solidity\":0.2}},\"type\":\"barpolar\"}],\"pie\":[{\"automargin\":true,\"type\":\"pie\"}]},\"layout\":{\"autotypenumbers\":\"strict\",\"colorway\":[\"#636efa\",\"#EF553B\",\"#00cc96\",\"#ab63fa\",\"#FFA15A\",\"#19d3f3\",\"#FF6692\",\"#B6E880\",\"#FF97FF\",\"#FECB52\"],\"font\":{\"color\":\"#2a3f5f\"},\"hovermode\":\"closest\",\"hoverlabel\":{\"align\":\"left\"},\"paper_bgcolor\":\"white\",\"plot_bgcolor\":\"#E5ECF6\",\"polar\":{\"bgcolor\":\"#E5ECF6\",\"angularaxis\":{\"gridcolor\":\"white\",\"linecolor\":\"white\",\"ticks\":\"\"},\"radialaxis\":{\"gridcolor\":\"white\",\"linecolor\":\"white\",\"ticks\":\"\"}},\"ternary\":{\"bgcolor\":\"#E5ECF6\",\"aaxis\":{\"gridcolor\":\"white\",\"linecolor\":\"white\",\"ticks\":\"\"},\"baxis\":{\"gridcolor\":\"white\",\"linecolor\":\"white\",\"ticks\":\"\"},\"caxis\":{\"gridcolor\":\"white\",\"linecolor\":\"white\",\"ticks\":\"\"}},\"coloraxis\":{\"colorbar\":{\"outlinewidth\":0,\"ticks\":\"\"}},\"colorscale\":{\"sequential\":[[0.0,\"#0d0887\"],[0.1111111111111111,\"#46039f\"],[0.2222222222222222,\"#7201a8\"],[0.3333333333333333,\"#9c179e\"],[0.4444444444444444,\"#bd3786\"],[0.5555555555555556,\"#d8576b\"],[0.6666666666666666,\"#ed7953\"],[0.7777777777777778,\"#fb9f3a\"],[0.8888888888888888,\"#fdca26\"],[1.0,\"#f0f921\"]],\"sequentialminus\":[[0.0,\"#0d0887\"],[0.1111111111111111,\"#46039f\"],[0.2222222222222222,\"#7201a8\"],[0.3333333333333333,\"#9c179e\"],[0.4444444444444444,\"#bd3786\"],[0.5555555555555556,\"#d8576b\"],[0.6666666666666666,\"#ed7953\"],[0.7777777777777778,\"#fb9f3a\"],[0.8888888888888888,\"#fdca26\"],[1.0,\"#f0f921\"]],\"diverging\":[[0,\"#8e0152\"],[0.1,\"#c51b7d\"],[0.2,\"#de77ae\"],[0.3,\"#f1b6da\"],[0.4,\"#fde0ef\"],[0.5,\"#f7f7f7\"],[0.6,\"#e6f5d0\"],[0.7,\"#b8e186\"],[0.8,\"#7fbc41\"],[0.9,\"#4d9221\"],[1,\"#276419\"]]},\"xaxis\":{\"gridcolor\":\"white\",\"linecolor\":\"white\",\"ticks\":\"\",\"title\":{\"standoff\":15},\"zerolinecolor\":\"white\",\"automargin\":true,\"zerolinewidth\":2},\"yaxis\":{\"gridcolor\":\"white\",\"linecolor\":\"white\",\"ticks\":\"\",\"title\":{\"standoff\":15},\"zerolinecolor\":\"white\",\"automargin\":true,\"zerolinewidth\":2},\"scene\":{\"xaxis\":{\"backgroundcolor\":\"#E5ECF6\",\"gridcolor\":\"white\",\"linecolor\":\"white\",\"showbackground\":true,\"ticks\":\"\",\"zerolinecolor\":\"white\",\"gridwidth\":2},\"yaxis\":{\"backgroundcolor\":\"#E5ECF6\",\"gridcolor\":\"white\",\"linecolor\":\"white\",\"showbackground\":true,\"ticks\":\"\",\"zerolinecolor\":\"white\",\"gridwidth\":2},\"zaxis\":{\"backgroundcolor\":\"#E5ECF6\",\"gridcolor\":\"white\",\"linecolor\":\"white\",\"showbackground\":true,\"ticks\":\"\",\"zerolinecolor\":\"white\",\"gridwidth\":2}},\"shapedefaults\":{\"line\":{\"color\":\"#2a3f5f\"}},\"annotationdefaults\":{\"arrowcolor\":\"#2a3f5f\",\"arrowhead\":0,\"arrowwidth\":1},\"geo\":{\"bgcolor\":\"white\",\"landcolor\":\"#E5ECF6\",\"subunitcolor\":\"white\",\"showland\":true,\"showlakes\":true,\"lakecolor\":\"white\"},\"title\":{\"x\":0.05},\"mapbox\":{\"style\":\"light\"}}},\"legend\":{\"tracegroupgap\":0},\"title\":{\"text\":\"Artistas y sus canciones mas populares\"}},                        {\"responsive\": true}                    ).then(function(){\n",
       "                            \n",
       "var gd = document.getElementById('4a80b41e-6beb-4fd1-a8b2-825ac04f1b2d');\n",
       "var x = new MutationObserver(function (mutations, observer) {{\n",
       "        var display = window.getComputedStyle(gd).display;\n",
       "        if (!display || display === 'none') {{\n",
       "            console.log([gd, 'removed!']);\n",
       "            Plotly.purge(gd);\n",
       "            observer.disconnect();\n",
       "        }}\n",
       "}});\n",
       "\n",
       "// Listen for the removal of the full notebook cells\n",
       "var notebookContainer = gd.closest('#notebook-container');\n",
       "if (notebookContainer) {{\n",
       "    x.observe(notebookContainer, {childList: true});\n",
       "}}\n",
       "\n",
       "// Listen for the clearing of the current output cell\n",
       "var outputEl = gd.closest('.output');\n",
       "if (outputEl) {{\n",
       "    x.observe(outputEl, {childList: true});\n",
       "}}\n",
       "\n",
       "                        })                };                });            </script>        </div>"
      ]
     },
     "metadata": {},
     "output_type": "display_data"
    }
   ],
   "source": [
    "fig = px.treemap(df.groupby(['track_artist', 'track_name']).track_popularity.mean().sort_values(ascending=False).reset_index()[:100],\n",
    "                 path=['track_artist', 'track_name'], \n",
    "                 values='track_popularity',\n",
    "                 title=\"Artistas y sus canciones mas populares\"\n",
    "                )\n",
    "fig.show()"
   ]
  },
  {
   "cell_type": "markdown",
   "id": "7f9b9914",
   "metadata": {},
   "source": [
    "7. **Generos y Subgeneros mas populares:** \n",
    "Por Medio de Pie Sunburst"
   ]
  },
  {
   "cell_type": "code",
   "execution_count": 246,
   "id": "a6392aaf",
   "metadata": {
    "scrolled": false
   },
   "outputs": [
    {
     "data": {
      "application/vnd.plotly.v1+json": {
       "config": {
        "plotlyServerURL": "https://plot.ly"
       },
       "data": [
        {
         "branchvalues": "total",
         "customdata": [
          [
           38.32206572769953
          ],
          [
           32.282752902155885
          ],
          [
           40.80941358024691
          ],
          [
           52.079352850539294
          ],
          [
           35.510258107213765
          ],
          [
           42.72514204545455
          ],
          [
           35.13923182441701
          ],
          [
           35.84107744107744
          ],
          [
           53.77307110438729
          ],
          [
           53.84474522292994
          ],
          [
           42.475478468899524
          ],
          [
           43.45108695652174
          ],
          [
           51.09984152139461
          ],
          [
           32.68723274282224
          ],
          [
           28.032656663724627
          ],
          [
           54.00090497737557
          ],
          [
           45.68622280817403
          ],
          [
           56.82550930026572
          ],
          [
           26.867882808181317
          ],
          [
           52.86933614330874
          ],
          [
           36.44597014925373
          ],
          [
           50.30828814872192
          ],
          [
           43.327639751552795
          ],
          [
           50.523843416370106
          ],
          [
           34.83352639417508
          ],
          [
           47.026576139670226
          ],
          [
           47.74487016524424
          ],
          [
           41.22353157797827
          ],
          [
           43.21545422902889
          ],
          [
           41.72833770955363
          ]
         ],
         "domain": {
          "x": [
           0,
           1
          ],
          "y": [
           0,
           1
          ]
         },
         "hovertemplate": "labels=%{label}<br>count=%{value}<br>parent=%{parent}<br>id=%{id}<br>Popularidad=%{color}<extra></extra>",
         "ids": [
          "Rock/Album rock",
          "Edm/Big room",
          "Rock/Classic rock",
          "Pop/Dance pop",
          "Edm/Electro house",
          "Pop/Electropop",
          "Rap/Gangster rap",
          "Rock/Hard rock",
          "Rap/Hip hop",
          "R&b/Hip pop",
          "Pop/Indie poptimism",
          "Latin/Latin hip hop",
          "Latin/Latin pop",
          "R&b/Neo soul",
          "R&b/New jack swing",
          "Rock/Permanent wave",
          "Edm/Pop edm",
          "Pop/Post-teen pop",
          "Edm/Progressive electro house",
          "Latin/Reggaeton",
          "Rap/Southern hip hop",
          "Rap/Trap",
          "Latin/Tropical",
          "R&b/Urban contemporary",
          "Edm",
          "Latin",
          "Pop",
          "R&b",
          "Rap",
          "Rock"
         ],
         "labels": [
          "Album rock",
          "Big room",
          "Classic rock",
          "Dance pop",
          "Electro house",
          "Electropop",
          "Gangster rap",
          "Hard rock",
          "Hip hop",
          "Hip pop",
          "Indie poptimism",
          "Latin hip hop",
          "Latin pop",
          "Neo soul",
          "New jack swing",
          "Permanent wave",
          "Pop edm",
          "Post-teen pop",
          "Progressive electro house",
          "Reggaeton",
          "Southern hip hop",
          "Trap",
          "Tropical",
          "Urban contemporary",
          "Edm",
          "Latin",
          "Pop",
          "R&b",
          "Rap",
          "Rock"
         ],
         "marker": {
          "coloraxis": "coloraxis",
          "colors": [
           38.32206572769953,
           32.282752902155885,
           40.80941358024691,
           52.079352850539294,
           35.510258107213765,
           42.72514204545455,
           35.13923182441701,
           35.84107744107744,
           53.77307110438729,
           53.84474522292994,
           42.475478468899524,
           43.45108695652174,
           51.09984152139461,
           32.68723274282224,
           28.032656663724627,
           54.00090497737557,
           45.68622280817403,
           56.82550930026572,
           26.867882808181317,
           52.86933614330874,
           36.44597014925373,
           50.30828814872192,
           43.327639751552795,
           50.523843416370106,
           34.83352639417508,
           47.026576139670226,
           47.74487016524424,
           41.22353157797827,
           43.21545422902889,
           41.72833770955363
          ]
         },
         "name": "",
         "parents": [
          "Rock",
          "Edm",
          "Rock",
          "Pop",
          "Edm",
          "Pop",
          "Rap",
          "Rock",
          "Rap",
          "R&b",
          "Pop",
          "Latin",
          "Latin",
          "R&b",
          "R&b",
          "Rock",
          "Edm",
          "Pop",
          "Edm",
          "Latin",
          "Rap",
          "Rap",
          "Latin",
          "R&b",
          "",
          "",
          "",
          "",
          "",
          ""
         ],
         "type": "sunburst",
         "values": [
          1065,
          1206,
          1296,
          1298,
          1511,
          1408,
          1458,
          1485,
          1322,
          1256,
          1672,
          1656,
          1262,
          1637,
          1133,
          1105,
          1517,
          1129,
          1809,
          949,
          1675,
          1291,
          1288,
          1405,
          6043,
          5155,
          5507,
          5431,
          5746,
          4951
         ]
        }
       ],
       "layout": {
        "coloraxis": {
         "colorbar": {
          "title": {
           "text": "Popularidad"
          }
         },
         "colorscale": [
          [
           0,
           "#0d0887"
          ],
          [
           0.1111111111111111,
           "#46039f"
          ],
          [
           0.2222222222222222,
           "#7201a8"
          ],
          [
           0.3333333333333333,
           "#9c179e"
          ],
          [
           0.4444444444444444,
           "#bd3786"
          ],
          [
           0.5555555555555556,
           "#d8576b"
          ],
          [
           0.6666666666666666,
           "#ed7953"
          ],
          [
           0.7777777777777778,
           "#fb9f3a"
          ],
          [
           0.8888888888888888,
           "#fdca26"
          ],
          [
           1,
           "#f0f921"
          ]
         ]
        },
        "legend": {
         "tracegroupgap": 0
        },
        "template": {
         "data": {
          "bar": [
           {
            "error_x": {
             "color": "#2a3f5f"
            },
            "error_y": {
             "color": "#2a3f5f"
            },
            "marker": {
             "line": {
              "color": "#E5ECF6",
              "width": 0.5
             },
             "pattern": {
              "fillmode": "overlay",
              "size": 10,
              "solidity": 0.2
             }
            },
            "type": "bar"
           }
          ],
          "barpolar": [
           {
            "marker": {
             "line": {
              "color": "#E5ECF6",
              "width": 0.5
             },
             "pattern": {
              "fillmode": "overlay",
              "size": 10,
              "solidity": 0.2
             }
            },
            "type": "barpolar"
           }
          ],
          "carpet": [
           {
            "aaxis": {
             "endlinecolor": "#2a3f5f",
             "gridcolor": "white",
             "linecolor": "white",
             "minorgridcolor": "white",
             "startlinecolor": "#2a3f5f"
            },
            "baxis": {
             "endlinecolor": "#2a3f5f",
             "gridcolor": "white",
             "linecolor": "white",
             "minorgridcolor": "white",
             "startlinecolor": "#2a3f5f"
            },
            "type": "carpet"
           }
          ],
          "choropleth": [
           {
            "colorbar": {
             "outlinewidth": 0,
             "ticks": ""
            },
            "type": "choropleth"
           }
          ],
          "contour": [
           {
            "colorbar": {
             "outlinewidth": 0,
             "ticks": ""
            },
            "colorscale": [
             [
              0,
              "#0d0887"
             ],
             [
              0.1111111111111111,
              "#46039f"
             ],
             [
              0.2222222222222222,
              "#7201a8"
             ],
             [
              0.3333333333333333,
              "#9c179e"
             ],
             [
              0.4444444444444444,
              "#bd3786"
             ],
             [
              0.5555555555555556,
              "#d8576b"
             ],
             [
              0.6666666666666666,
              "#ed7953"
             ],
             [
              0.7777777777777778,
              "#fb9f3a"
             ],
             [
              0.8888888888888888,
              "#fdca26"
             ],
             [
              1,
              "#f0f921"
             ]
            ],
            "type": "contour"
           }
          ],
          "contourcarpet": [
           {
            "colorbar": {
             "outlinewidth": 0,
             "ticks": ""
            },
            "type": "contourcarpet"
           }
          ],
          "heatmap": [
           {
            "colorbar": {
             "outlinewidth": 0,
             "ticks": ""
            },
            "colorscale": [
             [
              0,
              "#0d0887"
             ],
             [
              0.1111111111111111,
              "#46039f"
             ],
             [
              0.2222222222222222,
              "#7201a8"
             ],
             [
              0.3333333333333333,
              "#9c179e"
             ],
             [
              0.4444444444444444,
              "#bd3786"
             ],
             [
              0.5555555555555556,
              "#d8576b"
             ],
             [
              0.6666666666666666,
              "#ed7953"
             ],
             [
              0.7777777777777778,
              "#fb9f3a"
             ],
             [
              0.8888888888888888,
              "#fdca26"
             ],
             [
              1,
              "#f0f921"
             ]
            ],
            "type": "heatmap"
           }
          ],
          "heatmapgl": [
           {
            "colorbar": {
             "outlinewidth": 0,
             "ticks": ""
            },
            "colorscale": [
             [
              0,
              "#0d0887"
             ],
             [
              0.1111111111111111,
              "#46039f"
             ],
             [
              0.2222222222222222,
              "#7201a8"
             ],
             [
              0.3333333333333333,
              "#9c179e"
             ],
             [
              0.4444444444444444,
              "#bd3786"
             ],
             [
              0.5555555555555556,
              "#d8576b"
             ],
             [
              0.6666666666666666,
              "#ed7953"
             ],
             [
              0.7777777777777778,
              "#fb9f3a"
             ],
             [
              0.8888888888888888,
              "#fdca26"
             ],
             [
              1,
              "#f0f921"
             ]
            ],
            "type": "heatmapgl"
           }
          ],
          "histogram": [
           {
            "marker": {
             "pattern": {
              "fillmode": "overlay",
              "size": 10,
              "solidity": 0.2
             }
            },
            "type": "histogram"
           }
          ],
          "histogram2d": [
           {
            "colorbar": {
             "outlinewidth": 0,
             "ticks": ""
            },
            "colorscale": [
             [
              0,
              "#0d0887"
             ],
             [
              0.1111111111111111,
              "#46039f"
             ],
             [
              0.2222222222222222,
              "#7201a8"
             ],
             [
              0.3333333333333333,
              "#9c179e"
             ],
             [
              0.4444444444444444,
              "#bd3786"
             ],
             [
              0.5555555555555556,
              "#d8576b"
             ],
             [
              0.6666666666666666,
              "#ed7953"
             ],
             [
              0.7777777777777778,
              "#fb9f3a"
             ],
             [
              0.8888888888888888,
              "#fdca26"
             ],
             [
              1,
              "#f0f921"
             ]
            ],
            "type": "histogram2d"
           }
          ],
          "histogram2dcontour": [
           {
            "colorbar": {
             "outlinewidth": 0,
             "ticks": ""
            },
            "colorscale": [
             [
              0,
              "#0d0887"
             ],
             [
              0.1111111111111111,
              "#46039f"
             ],
             [
              0.2222222222222222,
              "#7201a8"
             ],
             [
              0.3333333333333333,
              "#9c179e"
             ],
             [
              0.4444444444444444,
              "#bd3786"
             ],
             [
              0.5555555555555556,
              "#d8576b"
             ],
             [
              0.6666666666666666,
              "#ed7953"
             ],
             [
              0.7777777777777778,
              "#fb9f3a"
             ],
             [
              0.8888888888888888,
              "#fdca26"
             ],
             [
              1,
              "#f0f921"
             ]
            ],
            "type": "histogram2dcontour"
           }
          ],
          "mesh3d": [
           {
            "colorbar": {
             "outlinewidth": 0,
             "ticks": ""
            },
            "type": "mesh3d"
           }
          ],
          "parcoords": [
           {
            "line": {
             "colorbar": {
              "outlinewidth": 0,
              "ticks": ""
             }
            },
            "type": "parcoords"
           }
          ],
          "pie": [
           {
            "automargin": true,
            "type": "pie"
           }
          ],
          "scatter": [
           {
            "fillpattern": {
             "fillmode": "overlay",
             "size": 10,
             "solidity": 0.2
            },
            "type": "scatter"
           }
          ],
          "scatter3d": [
           {
            "line": {
             "colorbar": {
              "outlinewidth": 0,
              "ticks": ""
             }
            },
            "marker": {
             "colorbar": {
              "outlinewidth": 0,
              "ticks": ""
             }
            },
            "type": "scatter3d"
           }
          ],
          "scattercarpet": [
           {
            "marker": {
             "colorbar": {
              "outlinewidth": 0,
              "ticks": ""
             }
            },
            "type": "scattercarpet"
           }
          ],
          "scattergeo": [
           {
            "marker": {
             "colorbar": {
              "outlinewidth": 0,
              "ticks": ""
             }
            },
            "type": "scattergeo"
           }
          ],
          "scattergl": [
           {
            "marker": {
             "colorbar": {
              "outlinewidth": 0,
              "ticks": ""
             }
            },
            "type": "scattergl"
           }
          ],
          "scattermapbox": [
           {
            "marker": {
             "colorbar": {
              "outlinewidth": 0,
              "ticks": ""
             }
            },
            "type": "scattermapbox"
           }
          ],
          "scatterpolar": [
           {
            "marker": {
             "colorbar": {
              "outlinewidth": 0,
              "ticks": ""
             }
            },
            "type": "scatterpolar"
           }
          ],
          "scatterpolargl": [
           {
            "marker": {
             "colorbar": {
              "outlinewidth": 0,
              "ticks": ""
             }
            },
            "type": "scatterpolargl"
           }
          ],
          "scatterternary": [
           {
            "marker": {
             "colorbar": {
              "outlinewidth": 0,
              "ticks": ""
             }
            },
            "type": "scatterternary"
           }
          ],
          "surface": [
           {
            "colorbar": {
             "outlinewidth": 0,
             "ticks": ""
            },
            "colorscale": [
             [
              0,
              "#0d0887"
             ],
             [
              0.1111111111111111,
              "#46039f"
             ],
             [
              0.2222222222222222,
              "#7201a8"
             ],
             [
              0.3333333333333333,
              "#9c179e"
             ],
             [
              0.4444444444444444,
              "#bd3786"
             ],
             [
              0.5555555555555556,
              "#d8576b"
             ],
             [
              0.6666666666666666,
              "#ed7953"
             ],
             [
              0.7777777777777778,
              "#fb9f3a"
             ],
             [
              0.8888888888888888,
              "#fdca26"
             ],
             [
              1,
              "#f0f921"
             ]
            ],
            "type": "surface"
           }
          ],
          "table": [
           {
            "cells": {
             "fill": {
              "color": "#EBF0F8"
             },
             "line": {
              "color": "white"
             }
            },
            "header": {
             "fill": {
              "color": "#C8D4E3"
             },
             "line": {
              "color": "white"
             }
            },
            "type": "table"
           }
          ]
         },
         "layout": {
          "annotationdefaults": {
           "arrowcolor": "#2a3f5f",
           "arrowhead": 0,
           "arrowwidth": 1
          },
          "autotypenumbers": "strict",
          "coloraxis": {
           "colorbar": {
            "outlinewidth": 0,
            "ticks": ""
           }
          },
          "colorscale": {
           "diverging": [
            [
             0,
             "#8e0152"
            ],
            [
             0.1,
             "#c51b7d"
            ],
            [
             0.2,
             "#de77ae"
            ],
            [
             0.3,
             "#f1b6da"
            ],
            [
             0.4,
             "#fde0ef"
            ],
            [
             0.5,
             "#f7f7f7"
            ],
            [
             0.6,
             "#e6f5d0"
            ],
            [
             0.7,
             "#b8e186"
            ],
            [
             0.8,
             "#7fbc41"
            ],
            [
             0.9,
             "#4d9221"
            ],
            [
             1,
             "#276419"
            ]
           ],
           "sequential": [
            [
             0,
             "#0d0887"
            ],
            [
             0.1111111111111111,
             "#46039f"
            ],
            [
             0.2222222222222222,
             "#7201a8"
            ],
            [
             0.3333333333333333,
             "#9c179e"
            ],
            [
             0.4444444444444444,
             "#bd3786"
            ],
            [
             0.5555555555555556,
             "#d8576b"
            ],
            [
             0.6666666666666666,
             "#ed7953"
            ],
            [
             0.7777777777777778,
             "#fb9f3a"
            ],
            [
             0.8888888888888888,
             "#fdca26"
            ],
            [
             1,
             "#f0f921"
            ]
           ],
           "sequentialminus": [
            [
             0,
             "#0d0887"
            ],
            [
             0.1111111111111111,
             "#46039f"
            ],
            [
             0.2222222222222222,
             "#7201a8"
            ],
            [
             0.3333333333333333,
             "#9c179e"
            ],
            [
             0.4444444444444444,
             "#bd3786"
            ],
            [
             0.5555555555555556,
             "#d8576b"
            ],
            [
             0.6666666666666666,
             "#ed7953"
            ],
            [
             0.7777777777777778,
             "#fb9f3a"
            ],
            [
             0.8888888888888888,
             "#fdca26"
            ],
            [
             1,
             "#f0f921"
            ]
           ]
          },
          "colorway": [
           "#636efa",
           "#EF553B",
           "#00cc96",
           "#ab63fa",
           "#FFA15A",
           "#19d3f3",
           "#FF6692",
           "#B6E880",
           "#FF97FF",
           "#FECB52"
          ],
          "font": {
           "color": "#2a3f5f"
          },
          "geo": {
           "bgcolor": "white",
           "lakecolor": "white",
           "landcolor": "#E5ECF6",
           "showlakes": true,
           "showland": true,
           "subunitcolor": "white"
          },
          "hoverlabel": {
           "align": "left"
          },
          "hovermode": "closest",
          "mapbox": {
           "style": "light"
          },
          "paper_bgcolor": "white",
          "plot_bgcolor": "#E5ECF6",
          "polar": {
           "angularaxis": {
            "gridcolor": "white",
            "linecolor": "white",
            "ticks": ""
           },
           "bgcolor": "#E5ECF6",
           "radialaxis": {
            "gridcolor": "white",
            "linecolor": "white",
            "ticks": ""
           }
          },
          "scene": {
           "xaxis": {
            "backgroundcolor": "#E5ECF6",
            "gridcolor": "white",
            "gridwidth": 2,
            "linecolor": "white",
            "showbackground": true,
            "ticks": "",
            "zerolinecolor": "white"
           },
           "yaxis": {
            "backgroundcolor": "#E5ECF6",
            "gridcolor": "white",
            "gridwidth": 2,
            "linecolor": "white",
            "showbackground": true,
            "ticks": "",
            "zerolinecolor": "white"
           },
           "zaxis": {
            "backgroundcolor": "#E5ECF6",
            "gridcolor": "white",
            "gridwidth": 2,
            "linecolor": "white",
            "showbackground": true,
            "ticks": "",
            "zerolinecolor": "white"
           }
          },
          "shapedefaults": {
           "line": {
            "color": "#2a3f5f"
           }
          },
          "ternary": {
           "aaxis": {
            "gridcolor": "white",
            "linecolor": "white",
            "ticks": ""
           },
           "baxis": {
            "gridcolor": "white",
            "linecolor": "white",
            "ticks": ""
           },
           "bgcolor": "#E5ECF6",
           "caxis": {
            "gridcolor": "white",
            "linecolor": "white",
            "ticks": ""
           }
          },
          "title": {
           "x": 0.05
          },
          "xaxis": {
           "automargin": true,
           "gridcolor": "white",
           "linecolor": "white",
           "ticks": "",
           "title": {
            "standoff": 15
           },
           "zerolinecolor": "white",
           "zerolinewidth": 2
          },
          "yaxis": {
           "automargin": true,
           "gridcolor": "white",
           "linecolor": "white",
           "ticks": "",
           "title": {
            "standoff": 15
           },
           "zerolinecolor": "white",
           "zerolinewidth": 2
          }
         }
        },
        "title": {
         "text": "Generos y Subgeneros mas Populares"
        }
       }
      },
      "text/html": [
       "<div>                            <div id=\"5d6479e8-7320-4232-a1c9-3b91aa862bb9\" class=\"plotly-graph-div\" style=\"height:525px; width:100%;\"></div>            <script type=\"text/javascript\">                require([\"plotly\"], function(Plotly) {                    window.PLOTLYENV=window.PLOTLYENV || {};                                    if (document.getElementById(\"5d6479e8-7320-4232-a1c9-3b91aa862bb9\")) {                    Plotly.newPlot(                        \"5d6479e8-7320-4232-a1c9-3b91aa862bb9\",                        [{\"branchvalues\":\"total\",\"customdata\":[[38.32206572769953],[32.282752902155885],[40.80941358024691],[52.079352850539294],[35.510258107213765],[42.72514204545455],[35.13923182441701],[35.84107744107744],[53.77307110438729],[53.84474522292994],[42.475478468899524],[43.45108695652174],[51.09984152139461],[32.68723274282224],[28.032656663724627],[54.00090497737557],[45.68622280817403],[56.82550930026572],[26.867882808181317],[52.86933614330874],[36.44597014925373],[50.30828814872192],[43.327639751552795],[50.523843416370106],[34.83352639417508],[47.026576139670226],[47.74487016524424],[41.22353157797827],[43.21545422902889],[41.72833770955363]],\"domain\":{\"x\":[0.0,1.0],\"y\":[0.0,1.0]},\"hovertemplate\":\"labels=%{label}\\u003cbr\\u003ecount=%{value}\\u003cbr\\u003eparent=%{parent}\\u003cbr\\u003eid=%{id}\\u003cbr\\u003ePopularidad=%{color}\\u003cextra\\u003e\\u003c\\u002fextra\\u003e\",\"ids\":[\"Rock\\u002fAlbum rock\",\"Edm\\u002fBig room\",\"Rock\\u002fClassic rock\",\"Pop\\u002fDance pop\",\"Edm\\u002fElectro house\",\"Pop\\u002fElectropop\",\"Rap\\u002fGangster rap\",\"Rock\\u002fHard rock\",\"Rap\\u002fHip hop\",\"R&b\\u002fHip pop\",\"Pop\\u002fIndie poptimism\",\"Latin\\u002fLatin hip hop\",\"Latin\\u002fLatin pop\",\"R&b\\u002fNeo soul\",\"R&b\\u002fNew jack swing\",\"Rock\\u002fPermanent wave\",\"Edm\\u002fPop edm\",\"Pop\\u002fPost-teen pop\",\"Edm\\u002fProgressive electro house\",\"Latin\\u002fReggaeton\",\"Rap\\u002fSouthern hip hop\",\"Rap\\u002fTrap\",\"Latin\\u002fTropical\",\"R&b\\u002fUrban contemporary\",\"Edm\",\"Latin\",\"Pop\",\"R&b\",\"Rap\",\"Rock\"],\"labels\":[\"Album rock\",\"Big room\",\"Classic rock\",\"Dance pop\",\"Electro house\",\"Electropop\",\"Gangster rap\",\"Hard rock\",\"Hip hop\",\"Hip pop\",\"Indie poptimism\",\"Latin hip hop\",\"Latin pop\",\"Neo soul\",\"New jack swing\",\"Permanent wave\",\"Pop edm\",\"Post-teen pop\",\"Progressive electro house\",\"Reggaeton\",\"Southern hip hop\",\"Trap\",\"Tropical\",\"Urban contemporary\",\"Edm\",\"Latin\",\"Pop\",\"R&b\",\"Rap\",\"Rock\"],\"marker\":{\"coloraxis\":\"coloraxis\",\"colors\":[38.32206572769953,32.282752902155885,40.80941358024691,52.079352850539294,35.510258107213765,42.72514204545455,35.13923182441701,35.84107744107744,53.77307110438729,53.84474522292994,42.475478468899524,43.45108695652174,51.09984152139461,32.68723274282224,28.032656663724627,54.00090497737557,45.68622280817403,56.82550930026572,26.867882808181317,52.86933614330874,36.44597014925373,50.30828814872192,43.327639751552795,50.523843416370106,34.83352639417508,47.026576139670226,47.74487016524424,41.22353157797827,43.21545422902889,41.72833770955363]},\"name\":\"\",\"parents\":[\"Rock\",\"Edm\",\"Rock\",\"Pop\",\"Edm\",\"Pop\",\"Rap\",\"Rock\",\"Rap\",\"R&b\",\"Pop\",\"Latin\",\"Latin\",\"R&b\",\"R&b\",\"Rock\",\"Edm\",\"Pop\",\"Edm\",\"Latin\",\"Rap\",\"Rap\",\"Latin\",\"R&b\",\"\",\"\",\"\",\"\",\"\",\"\"],\"values\":[1065,1206,1296,1298,1511,1408,1458,1485,1322,1256,1672,1656,1262,1637,1133,1105,1517,1129,1809,949,1675,1291,1288,1405,6043,5155,5507,5431,5746,4951],\"type\":\"sunburst\"}],                        {\"template\":{\"data\":{\"histogram2dcontour\":[{\"type\":\"histogram2dcontour\",\"colorbar\":{\"outlinewidth\":0,\"ticks\":\"\"},\"colorscale\":[[0.0,\"#0d0887\"],[0.1111111111111111,\"#46039f\"],[0.2222222222222222,\"#7201a8\"],[0.3333333333333333,\"#9c179e\"],[0.4444444444444444,\"#bd3786\"],[0.5555555555555556,\"#d8576b\"],[0.6666666666666666,\"#ed7953\"],[0.7777777777777778,\"#fb9f3a\"],[0.8888888888888888,\"#fdca26\"],[1.0,\"#f0f921\"]]}],\"choropleth\":[{\"type\":\"choropleth\",\"colorbar\":{\"outlinewidth\":0,\"ticks\":\"\"}}],\"histogram2d\":[{\"type\":\"histogram2d\",\"colorbar\":{\"outlinewidth\":0,\"ticks\":\"\"},\"colorscale\":[[0.0,\"#0d0887\"],[0.1111111111111111,\"#46039f\"],[0.2222222222222222,\"#7201a8\"],[0.3333333333333333,\"#9c179e\"],[0.4444444444444444,\"#bd3786\"],[0.5555555555555556,\"#d8576b\"],[0.6666666666666666,\"#ed7953\"],[0.7777777777777778,\"#fb9f3a\"],[0.8888888888888888,\"#fdca26\"],[1.0,\"#f0f921\"]]}],\"heatmap\":[{\"type\":\"heatmap\",\"colorbar\":{\"outlinewidth\":0,\"ticks\":\"\"},\"colorscale\":[[0.0,\"#0d0887\"],[0.1111111111111111,\"#46039f\"],[0.2222222222222222,\"#7201a8\"],[0.3333333333333333,\"#9c179e\"],[0.4444444444444444,\"#bd3786\"],[0.5555555555555556,\"#d8576b\"],[0.6666666666666666,\"#ed7953\"],[0.7777777777777778,\"#fb9f3a\"],[0.8888888888888888,\"#fdca26\"],[1.0,\"#f0f921\"]]}],\"heatmapgl\":[{\"type\":\"heatmapgl\",\"colorbar\":{\"outlinewidth\":0,\"ticks\":\"\"},\"colorscale\":[[0.0,\"#0d0887\"],[0.1111111111111111,\"#46039f\"],[0.2222222222222222,\"#7201a8\"],[0.3333333333333333,\"#9c179e\"],[0.4444444444444444,\"#bd3786\"],[0.5555555555555556,\"#d8576b\"],[0.6666666666666666,\"#ed7953\"],[0.7777777777777778,\"#fb9f3a\"],[0.8888888888888888,\"#fdca26\"],[1.0,\"#f0f921\"]]}],\"contourcarpet\":[{\"type\":\"contourcarpet\",\"colorbar\":{\"outlinewidth\":0,\"ticks\":\"\"}}],\"contour\":[{\"type\":\"contour\",\"colorbar\":{\"outlinewidth\":0,\"ticks\":\"\"},\"colorscale\":[[0.0,\"#0d0887\"],[0.1111111111111111,\"#46039f\"],[0.2222222222222222,\"#7201a8\"],[0.3333333333333333,\"#9c179e\"],[0.4444444444444444,\"#bd3786\"],[0.5555555555555556,\"#d8576b\"],[0.6666666666666666,\"#ed7953\"],[0.7777777777777778,\"#fb9f3a\"],[0.8888888888888888,\"#fdca26\"],[1.0,\"#f0f921\"]]}],\"surface\":[{\"type\":\"surface\",\"colorbar\":{\"outlinewidth\":0,\"ticks\":\"\"},\"colorscale\":[[0.0,\"#0d0887\"],[0.1111111111111111,\"#46039f\"],[0.2222222222222222,\"#7201a8\"],[0.3333333333333333,\"#9c179e\"],[0.4444444444444444,\"#bd3786\"],[0.5555555555555556,\"#d8576b\"],[0.6666666666666666,\"#ed7953\"],[0.7777777777777778,\"#fb9f3a\"],[0.8888888888888888,\"#fdca26\"],[1.0,\"#f0f921\"]]}],\"mesh3d\":[{\"type\":\"mesh3d\",\"colorbar\":{\"outlinewidth\":0,\"ticks\":\"\"}}],\"scatter\":[{\"fillpattern\":{\"fillmode\":\"overlay\",\"size\":10,\"solidity\":0.2},\"type\":\"scatter\"}],\"parcoords\":[{\"type\":\"parcoords\",\"line\":{\"colorbar\":{\"outlinewidth\":0,\"ticks\":\"\"}}}],\"scatterpolargl\":[{\"type\":\"scatterpolargl\",\"marker\":{\"colorbar\":{\"outlinewidth\":0,\"ticks\":\"\"}}}],\"bar\":[{\"error_x\":{\"color\":\"#2a3f5f\"},\"error_y\":{\"color\":\"#2a3f5f\"},\"marker\":{\"line\":{\"color\":\"#E5ECF6\",\"width\":0.5},\"pattern\":{\"fillmode\":\"overlay\",\"size\":10,\"solidity\":0.2}},\"type\":\"bar\"}],\"scattergeo\":[{\"type\":\"scattergeo\",\"marker\":{\"colorbar\":{\"outlinewidth\":0,\"ticks\":\"\"}}}],\"scatterpolar\":[{\"type\":\"scatterpolar\",\"marker\":{\"colorbar\":{\"outlinewidth\":0,\"ticks\":\"\"}}}],\"histogram\":[{\"marker\":{\"pattern\":{\"fillmode\":\"overlay\",\"size\":10,\"solidity\":0.2}},\"type\":\"histogram\"}],\"scattergl\":[{\"type\":\"scattergl\",\"marker\":{\"colorbar\":{\"outlinewidth\":0,\"ticks\":\"\"}}}],\"scatter3d\":[{\"type\":\"scatter3d\",\"line\":{\"colorbar\":{\"outlinewidth\":0,\"ticks\":\"\"}},\"marker\":{\"colorbar\":{\"outlinewidth\":0,\"ticks\":\"\"}}}],\"scattermapbox\":[{\"type\":\"scattermapbox\",\"marker\":{\"colorbar\":{\"outlinewidth\":0,\"ticks\":\"\"}}}],\"scatterternary\":[{\"type\":\"scatterternary\",\"marker\":{\"colorbar\":{\"outlinewidth\":0,\"ticks\":\"\"}}}],\"scattercarpet\":[{\"type\":\"scattercarpet\",\"marker\":{\"colorbar\":{\"outlinewidth\":0,\"ticks\":\"\"}}}],\"carpet\":[{\"aaxis\":{\"endlinecolor\":\"#2a3f5f\",\"gridcolor\":\"white\",\"linecolor\":\"white\",\"minorgridcolor\":\"white\",\"startlinecolor\":\"#2a3f5f\"},\"baxis\":{\"endlinecolor\":\"#2a3f5f\",\"gridcolor\":\"white\",\"linecolor\":\"white\",\"minorgridcolor\":\"white\",\"startlinecolor\":\"#2a3f5f\"},\"type\":\"carpet\"}],\"table\":[{\"cells\":{\"fill\":{\"color\":\"#EBF0F8\"},\"line\":{\"color\":\"white\"}},\"header\":{\"fill\":{\"color\":\"#C8D4E3\"},\"line\":{\"color\":\"white\"}},\"type\":\"table\"}],\"barpolar\":[{\"marker\":{\"line\":{\"color\":\"#E5ECF6\",\"width\":0.5},\"pattern\":{\"fillmode\":\"overlay\",\"size\":10,\"solidity\":0.2}},\"type\":\"barpolar\"}],\"pie\":[{\"automargin\":true,\"type\":\"pie\"}]},\"layout\":{\"autotypenumbers\":\"strict\",\"colorway\":[\"#636efa\",\"#EF553B\",\"#00cc96\",\"#ab63fa\",\"#FFA15A\",\"#19d3f3\",\"#FF6692\",\"#B6E880\",\"#FF97FF\",\"#FECB52\"],\"font\":{\"color\":\"#2a3f5f\"},\"hovermode\":\"closest\",\"hoverlabel\":{\"align\":\"left\"},\"paper_bgcolor\":\"white\",\"plot_bgcolor\":\"#E5ECF6\",\"polar\":{\"bgcolor\":\"#E5ECF6\",\"angularaxis\":{\"gridcolor\":\"white\",\"linecolor\":\"white\",\"ticks\":\"\"},\"radialaxis\":{\"gridcolor\":\"white\",\"linecolor\":\"white\",\"ticks\":\"\"}},\"ternary\":{\"bgcolor\":\"#E5ECF6\",\"aaxis\":{\"gridcolor\":\"white\",\"linecolor\":\"white\",\"ticks\":\"\"},\"baxis\":{\"gridcolor\":\"white\",\"linecolor\":\"white\",\"ticks\":\"\"},\"caxis\":{\"gridcolor\":\"white\",\"linecolor\":\"white\",\"ticks\":\"\"}},\"coloraxis\":{\"colorbar\":{\"outlinewidth\":0,\"ticks\":\"\"}},\"colorscale\":{\"sequential\":[[0.0,\"#0d0887\"],[0.1111111111111111,\"#46039f\"],[0.2222222222222222,\"#7201a8\"],[0.3333333333333333,\"#9c179e\"],[0.4444444444444444,\"#bd3786\"],[0.5555555555555556,\"#d8576b\"],[0.6666666666666666,\"#ed7953\"],[0.7777777777777778,\"#fb9f3a\"],[0.8888888888888888,\"#fdca26\"],[1.0,\"#f0f921\"]],\"sequentialminus\":[[0.0,\"#0d0887\"],[0.1111111111111111,\"#46039f\"],[0.2222222222222222,\"#7201a8\"],[0.3333333333333333,\"#9c179e\"],[0.4444444444444444,\"#bd3786\"],[0.5555555555555556,\"#d8576b\"],[0.6666666666666666,\"#ed7953\"],[0.7777777777777778,\"#fb9f3a\"],[0.8888888888888888,\"#fdca26\"],[1.0,\"#f0f921\"]],\"diverging\":[[0,\"#8e0152\"],[0.1,\"#c51b7d\"],[0.2,\"#de77ae\"],[0.3,\"#f1b6da\"],[0.4,\"#fde0ef\"],[0.5,\"#f7f7f7\"],[0.6,\"#e6f5d0\"],[0.7,\"#b8e186\"],[0.8,\"#7fbc41\"],[0.9,\"#4d9221\"],[1,\"#276419\"]]},\"xaxis\":{\"gridcolor\":\"white\",\"linecolor\":\"white\",\"ticks\":\"\",\"title\":{\"standoff\":15},\"zerolinecolor\":\"white\",\"automargin\":true,\"zerolinewidth\":2},\"yaxis\":{\"gridcolor\":\"white\",\"linecolor\":\"white\",\"ticks\":\"\",\"title\":{\"standoff\":15},\"zerolinecolor\":\"white\",\"automargin\":true,\"zerolinewidth\":2},\"scene\":{\"xaxis\":{\"backgroundcolor\":\"#E5ECF6\",\"gridcolor\":\"white\",\"linecolor\":\"white\",\"showbackground\":true,\"ticks\":\"\",\"zerolinecolor\":\"white\",\"gridwidth\":2},\"yaxis\":{\"backgroundcolor\":\"#E5ECF6\",\"gridcolor\":\"white\",\"linecolor\":\"white\",\"showbackground\":true,\"ticks\":\"\",\"zerolinecolor\":\"white\",\"gridwidth\":2},\"zaxis\":{\"backgroundcolor\":\"#E5ECF6\",\"gridcolor\":\"white\",\"linecolor\":\"white\",\"showbackground\":true,\"ticks\":\"\",\"zerolinecolor\":\"white\",\"gridwidth\":2}},\"shapedefaults\":{\"line\":{\"color\":\"#2a3f5f\"}},\"annotationdefaults\":{\"arrowcolor\":\"#2a3f5f\",\"arrowhead\":0,\"arrowwidth\":1},\"geo\":{\"bgcolor\":\"white\",\"landcolor\":\"#E5ECF6\",\"subunitcolor\":\"white\",\"showland\":true,\"showlakes\":true,\"lakecolor\":\"white\"},\"title\":{\"x\":0.05},\"mapbox\":{\"style\":\"light\"}}},\"coloraxis\":{\"colorbar\":{\"title\":{\"text\":\"Popularidad\"}},\"colorscale\":[[0.0,\"#0d0887\"],[0.1111111111111111,\"#46039f\"],[0.2222222222222222,\"#7201a8\"],[0.3333333333333333,\"#9c179e\"],[0.4444444444444444,\"#bd3786\"],[0.5555555555555556,\"#d8576b\"],[0.6666666666666666,\"#ed7953\"],[0.7777777777777778,\"#fb9f3a\"],[0.8888888888888888,\"#fdca26\"],[1.0,\"#f0f921\"]]},\"legend\":{\"tracegroupgap\":0},\"title\":{\"text\":\"Generos y Subgeneros mas Populares\"}},                        {\"responsive\": true}                    ).then(function(){\n",
       "                            \n",
       "var gd = document.getElementById('5d6479e8-7320-4232-a1c9-3b91aa862bb9');\n",
       "var x = new MutationObserver(function (mutations, observer) {{\n",
       "        var display = window.getComputedStyle(gd).display;\n",
       "        if (!display || display === 'none') {{\n",
       "            console.log([gd, 'removed!']);\n",
       "            Plotly.purge(gd);\n",
       "            observer.disconnect();\n",
       "        }}\n",
       "}});\n",
       "\n",
       "// Listen for the removal of the full notebook cells\n",
       "var notebookContainer = gd.closest('#notebook-container');\n",
       "if (notebookContainer) {{\n",
       "    x.observe(notebookContainer, {childList: true});\n",
       "}}\n",
       "\n",
       "// Listen for the clearing of the current output cell\n",
       "var outputEl = gd.closest('.output');\n",
       "if (outputEl) {{\n",
       "    x.observe(outputEl, {childList: true});\n",
       "}}\n",
       "\n",
       "                        })                };                });            </script>        </div>"
      ]
     },
     "metadata": {},
     "output_type": "display_data"
    }
   ],
   "source": [
    "df[['playlist_genre', 'playlist_subgenre']] = df[['playlist_genre', 'playlist_subgenre']] \\\n",
    "                                                  .apply(lambda x: x.str.capitalize(), axis=1)\n",
    "fig = px.sunburst(df,\n",
    "                  path=['playlist_genre', 'playlist_subgenre'], \n",
    "                  color='track_popularity', \n",
    "                  title=\"Generos y Subgeneros mas Populares\",\n",
    "                  labels={'track_popularity': 'Popularidad'})\n",
    "fig.show()"
   ]
  },
  {
   "cell_type": "markdown",
   "id": "93edaa94",
   "metadata": {},
   "source": [
    "8. **Correlaciones entre variables**"
   ]
  },
  {
   "cell_type": "code",
   "execution_count": 36,
   "id": "0272d6e5",
   "metadata": {
    "scrolled": false
   },
   "outputs": [
    {
     "data": {
      "text/html": [
       "<div>\n",
       "<style scoped>\n",
       "    .dataframe tbody tr th:only-of-type {\n",
       "        vertical-align: middle;\n",
       "    }\n",
       "\n",
       "    .dataframe tbody tr th {\n",
       "        vertical-align: top;\n",
       "    }\n",
       "\n",
       "    .dataframe thead th {\n",
       "        text-align: right;\n",
       "    }\n",
       "</style>\n",
       "<table border=\"1\" class=\"dataframe\">\n",
       "  <thead>\n",
       "    <tr style=\"text-align: right;\">\n",
       "      <th></th>\n",
       "      <th>track_popularity</th>\n",
       "      <th>danceability</th>\n",
       "      <th>energy</th>\n",
       "      <th>key</th>\n",
       "      <th>loudness</th>\n",
       "      <th>mode</th>\n",
       "      <th>speechiness</th>\n",
       "      <th>acousticness</th>\n",
       "      <th>instrumentalness</th>\n",
       "      <th>liveness</th>\n",
       "      <th>valence</th>\n",
       "      <th>tempo</th>\n",
       "      <th>duration_ms</th>\n",
       "    </tr>\n",
       "  </thead>\n",
       "  <tbody>\n",
       "    <tr>\n",
       "      <th>track_popularity</th>\n",
       "      <td>1.000000</td>\n",
       "      <td>0.064748</td>\n",
       "      <td>-0.109112</td>\n",
       "      <td>-0.000650</td>\n",
       "      <td>0.057687</td>\n",
       "      <td>0.010637</td>\n",
       "      <td>0.006819</td>\n",
       "      <td>0.085159</td>\n",
       "      <td>-0.149872</td>\n",
       "      <td>-0.054584</td>\n",
       "      <td>0.033231</td>\n",
       "      <td>-0.005378</td>\n",
       "      <td>-0.143682</td>\n",
       "    </tr>\n",
       "    <tr>\n",
       "      <th>danceability</th>\n",
       "      <td>0.064748</td>\n",
       "      <td>1.000000</td>\n",
       "      <td>-0.086073</td>\n",
       "      <td>0.011736</td>\n",
       "      <td>0.025335</td>\n",
       "      <td>-0.058647</td>\n",
       "      <td>0.181721</td>\n",
       "      <td>-0.024519</td>\n",
       "      <td>-0.008655</td>\n",
       "      <td>-0.123859</td>\n",
       "      <td>0.330523</td>\n",
       "      <td>-0.184084</td>\n",
       "      <td>-0.096879</td>\n",
       "    </tr>\n",
       "    <tr>\n",
       "      <th>energy</th>\n",
       "      <td>-0.109112</td>\n",
       "      <td>-0.086073</td>\n",
       "      <td>1.000000</td>\n",
       "      <td>0.010052</td>\n",
       "      <td>0.676625</td>\n",
       "      <td>-0.004800</td>\n",
       "      <td>-0.032150</td>\n",
       "      <td>-0.539745</td>\n",
       "      <td>0.033247</td>\n",
       "      <td>0.161223</td>\n",
       "      <td>0.151103</td>\n",
       "      <td>0.149951</td>\n",
       "      <td>0.012611</td>\n",
       "    </tr>\n",
       "    <tr>\n",
       "      <th>key</th>\n",
       "      <td>-0.000650</td>\n",
       "      <td>0.011736</td>\n",
       "      <td>0.010052</td>\n",
       "      <td>1.000000</td>\n",
       "      <td>0.000959</td>\n",
       "      <td>-0.174093</td>\n",
       "      <td>0.022607</td>\n",
       "      <td>0.004306</td>\n",
       "      <td>0.005968</td>\n",
       "      <td>0.002887</td>\n",
       "      <td>0.019914</td>\n",
       "      <td>-0.013370</td>\n",
       "      <td>0.015139</td>\n",
       "    </tr>\n",
       "    <tr>\n",
       "      <th>loudness</th>\n",
       "      <td>0.057687</td>\n",
       "      <td>0.025335</td>\n",
       "      <td>0.676625</td>\n",
       "      <td>0.000959</td>\n",
       "      <td>1.000000</td>\n",
       "      <td>-0.019289</td>\n",
       "      <td>0.010339</td>\n",
       "      <td>-0.361638</td>\n",
       "      <td>-0.147824</td>\n",
       "      <td>0.077613</td>\n",
       "      <td>0.053384</td>\n",
       "      <td>0.093767</td>\n",
       "      <td>-0.115058</td>\n",
       "    </tr>\n",
       "    <tr>\n",
       "      <th>mode</th>\n",
       "      <td>0.010637</td>\n",
       "      <td>-0.058647</td>\n",
       "      <td>-0.004800</td>\n",
       "      <td>-0.174093</td>\n",
       "      <td>-0.019289</td>\n",
       "      <td>1.000000</td>\n",
       "      <td>-0.063512</td>\n",
       "      <td>0.009415</td>\n",
       "      <td>-0.006741</td>\n",
       "      <td>-0.005549</td>\n",
       "      <td>0.002614</td>\n",
       "      <td>0.014329</td>\n",
       "      <td>0.015634</td>\n",
       "    </tr>\n",
       "    <tr>\n",
       "      <th>speechiness</th>\n",
       "      <td>0.006819</td>\n",
       "      <td>0.181721</td>\n",
       "      <td>-0.032150</td>\n",
       "      <td>0.022607</td>\n",
       "      <td>0.010339</td>\n",
       "      <td>-0.063512</td>\n",
       "      <td>1.000000</td>\n",
       "      <td>0.026092</td>\n",
       "      <td>-0.103424</td>\n",
       "      <td>0.055426</td>\n",
       "      <td>0.064659</td>\n",
       "      <td>0.044603</td>\n",
       "      <td>-0.089431</td>\n",
       "    </tr>\n",
       "    <tr>\n",
       "      <th>acousticness</th>\n",
       "      <td>0.085159</td>\n",
       "      <td>-0.024519</td>\n",
       "      <td>-0.539745</td>\n",
       "      <td>0.004306</td>\n",
       "      <td>-0.361638</td>\n",
       "      <td>0.009415</td>\n",
       "      <td>0.026092</td>\n",
       "      <td>1.000000</td>\n",
       "      <td>-0.006850</td>\n",
       "      <td>-0.077243</td>\n",
       "      <td>-0.016845</td>\n",
       "      <td>-0.112724</td>\n",
       "      <td>-0.081581</td>\n",
       "    </tr>\n",
       "    <tr>\n",
       "      <th>instrumentalness</th>\n",
       "      <td>-0.149872</td>\n",
       "      <td>-0.008655</td>\n",
       "      <td>0.033247</td>\n",
       "      <td>0.005968</td>\n",
       "      <td>-0.147824</td>\n",
       "      <td>-0.006741</td>\n",
       "      <td>-0.103424</td>\n",
       "      <td>-0.006850</td>\n",
       "      <td>1.000000</td>\n",
       "      <td>-0.005507</td>\n",
       "      <td>-0.175402</td>\n",
       "      <td>0.023335</td>\n",
       "      <td>0.063235</td>\n",
       "    </tr>\n",
       "    <tr>\n",
       "      <th>liveness</th>\n",
       "      <td>-0.054584</td>\n",
       "      <td>-0.123859</td>\n",
       "      <td>0.161223</td>\n",
       "      <td>0.002887</td>\n",
       "      <td>0.077613</td>\n",
       "      <td>-0.005549</td>\n",
       "      <td>0.055426</td>\n",
       "      <td>-0.077243</td>\n",
       "      <td>-0.005507</td>\n",
       "      <td>1.000000</td>\n",
       "      <td>-0.020560</td>\n",
       "      <td>0.021018</td>\n",
       "      <td>0.006138</td>\n",
       "    </tr>\n",
       "    <tr>\n",
       "      <th>valence</th>\n",
       "      <td>0.033231</td>\n",
       "      <td>0.330523</td>\n",
       "      <td>0.151103</td>\n",
       "      <td>0.019914</td>\n",
       "      <td>0.053384</td>\n",
       "      <td>0.002614</td>\n",
       "      <td>0.064659</td>\n",
       "      <td>-0.016845</td>\n",
       "      <td>-0.175402</td>\n",
       "      <td>-0.020560</td>\n",
       "      <td>1.000000</td>\n",
       "      <td>-0.025732</td>\n",
       "      <td>-0.032225</td>\n",
       "    </tr>\n",
       "    <tr>\n",
       "      <th>tempo</th>\n",
       "      <td>-0.005378</td>\n",
       "      <td>-0.184084</td>\n",
       "      <td>0.149951</td>\n",
       "      <td>-0.013370</td>\n",
       "      <td>0.093767</td>\n",
       "      <td>0.014329</td>\n",
       "      <td>0.044603</td>\n",
       "      <td>-0.112724</td>\n",
       "      <td>0.023335</td>\n",
       "      <td>0.021018</td>\n",
       "      <td>-0.025732</td>\n",
       "      <td>1.000000</td>\n",
       "      <td>-0.001412</td>\n",
       "    </tr>\n",
       "    <tr>\n",
       "      <th>duration_ms</th>\n",
       "      <td>-0.143682</td>\n",
       "      <td>-0.096879</td>\n",
       "      <td>0.012611</td>\n",
       "      <td>0.015139</td>\n",
       "      <td>-0.115058</td>\n",
       "      <td>0.015634</td>\n",
       "      <td>-0.089431</td>\n",
       "      <td>-0.081581</td>\n",
       "      <td>0.063235</td>\n",
       "      <td>0.006138</td>\n",
       "      <td>-0.032225</td>\n",
       "      <td>-0.001412</td>\n",
       "      <td>1.000000</td>\n",
       "    </tr>\n",
       "  </tbody>\n",
       "</table>\n",
       "</div>"
      ],
      "text/plain": [
       "                  track_popularity  danceability    energy       key  \\\n",
       "track_popularity          1.000000      0.064748 -0.109112 -0.000650   \n",
       "danceability              0.064748      1.000000 -0.086073  0.011736   \n",
       "energy                   -0.109112     -0.086073  1.000000  0.010052   \n",
       "key                      -0.000650      0.011736  0.010052  1.000000   \n",
       "loudness                  0.057687      0.025335  0.676625  0.000959   \n",
       "mode                      0.010637     -0.058647 -0.004800 -0.174093   \n",
       "speechiness               0.006819      0.181721 -0.032150  0.022607   \n",
       "acousticness              0.085159     -0.024519 -0.539745  0.004306   \n",
       "instrumentalness         -0.149872     -0.008655  0.033247  0.005968   \n",
       "liveness                 -0.054584     -0.123859  0.161223  0.002887   \n",
       "valence                   0.033231      0.330523  0.151103  0.019914   \n",
       "tempo                    -0.005378     -0.184084  0.149951 -0.013370   \n",
       "duration_ms              -0.143682     -0.096879  0.012611  0.015139   \n",
       "\n",
       "                  loudness      mode  speechiness  acousticness  \\\n",
       "track_popularity  0.057687  0.010637     0.006819      0.085159   \n",
       "danceability      0.025335 -0.058647     0.181721     -0.024519   \n",
       "energy            0.676625 -0.004800    -0.032150     -0.539745   \n",
       "key               0.000959 -0.174093     0.022607      0.004306   \n",
       "loudness          1.000000 -0.019289     0.010339     -0.361638   \n",
       "mode             -0.019289  1.000000    -0.063512      0.009415   \n",
       "speechiness       0.010339 -0.063512     1.000000      0.026092   \n",
       "acousticness     -0.361638  0.009415     0.026092      1.000000   \n",
       "instrumentalness -0.147824 -0.006741    -0.103424     -0.006850   \n",
       "liveness          0.077613 -0.005549     0.055426     -0.077243   \n",
       "valence           0.053384  0.002614     0.064659     -0.016845   \n",
       "tempo             0.093767  0.014329     0.044603     -0.112724   \n",
       "duration_ms      -0.115058  0.015634    -0.089431     -0.081581   \n",
       "\n",
       "                  instrumentalness  liveness   valence     tempo  duration_ms  \n",
       "track_popularity         -0.149872 -0.054584  0.033231 -0.005378    -0.143682  \n",
       "danceability             -0.008655 -0.123859  0.330523 -0.184084    -0.096879  \n",
       "energy                    0.033247  0.161223  0.151103  0.149951     0.012611  \n",
       "key                       0.005968  0.002887  0.019914 -0.013370     0.015139  \n",
       "loudness                 -0.147824  0.077613  0.053384  0.093767    -0.115058  \n",
       "mode                     -0.006741 -0.005549  0.002614  0.014329     0.015634  \n",
       "speechiness              -0.103424  0.055426  0.064659  0.044603    -0.089431  \n",
       "acousticness             -0.006850 -0.077243 -0.016845 -0.112724    -0.081581  \n",
       "instrumentalness          1.000000 -0.005507 -0.175402  0.023335     0.063235  \n",
       "liveness                 -0.005507  1.000000 -0.020560  0.021018     0.006138  \n",
       "valence                  -0.175402 -0.020560  1.000000 -0.025732    -0.032225  \n",
       "tempo                     0.023335  0.021018 -0.025732  1.000000    -0.001412  \n",
       "duration_ms               0.063235  0.006138 -0.032225 -0.001412     1.000000  "
      ]
     },
     "execution_count": 36,
     "metadata": {},
     "output_type": "execute_result"
    }
   ],
   "source": [
    "corr = df.corr()\n",
    "corr"
   ]
  },
  {
   "cell_type": "code",
   "execution_count": 37,
   "id": "fb2afe06",
   "metadata": {},
   "outputs": [
    {
     "data": {
      "image/png": "[encoded data removed]",
      "text/plain": [
       "<Figure size 640x480 with 2 Axes>"
      ]
     },
     "metadata": {},
     "output_type": "display_data"
    },
    {
     "data": {
      "text/plain": [
       "<Figure size 640x480 with 0 Axes>"
      ]
     },
     "metadata": {},
     "output_type": "display_data"
    }
   ],
   "source": [
    "sns.heatmap(corr)\n",
    "plt.show()\n",
    "plt.clf()"
   ]
  },
  {
   "cell_type": "markdown",
   "id": "ca329c3e",
   "metadata": {},
   "source": [
    "# Pruebas de Hipotesis"
   ]
  },
  {
   "cell_type": "markdown",
   "id": "8fba56dd",
   "metadata": {},
   "source": [
    "Vamos a hacer algunas pruebas\n",
    "\n",
    "\n",
    "1. **El Rock esta muerto?**\n",
    "\n",
    "Hipótesis:\n",
    "* **H0 (Hipótesis nula)**: No hay diferencia significativa en la popularidad media de las canciones entre los géneros \"rap\" y \"rock\".\n",
    "* **H1 (Hipótesis alternativa)**: Existe una diferencia significativa en la popularidad media de las canciones entre los géneros \"rap\" y \"rock\"."
   ]
  },
  {
   "cell_type": "code",
   "execution_count": 47,
   "id": "2008c3e5",
   "metadata": {},
   "outputs": [
    {
     "name": "stdout",
     "output_type": "stream",
     "text": [
      "Estadístico t: 3.177943408585225\n",
      "Valor p: 0.0014876479564731916\n"
     ]
    }
   ],
   "source": [
    "canciones_rap = df[df['playlist_genre'] == 'Rap']['track_popularity'].dropna()\n",
    "canciones_rock = df[df['playlist_genre'] == 'Rock']['track_popularity'].dropna()\n",
    "\n",
    "# Realizar una prueba t de Student\n",
    "t_stat, p_value = stats.ttest_ind(canciones_rap, canciones_rock, equal_var=False)\n",
    "\n",
    "# Mostrar los resultados de la prueba\n",
    "print(f\"Estadístico t: {t_stat}\")\n",
    "print(f\"Valor p: {p_value}\")"
   ]
  },
  {
   "cell_type": "markdown",
   "id": "e0fe3a7f",
   "metadata": {},
   "source": [
    "##### En efecto, ya que p<0.015 (improbable que haya pasado bajo H0), la diferencia entre los datos nos indica que podemos afirmar estadisticamente que el rock ha muerto"
   ]
  },
  {
   "cell_type": "markdown",
   "id": "03d93a30",
   "metadata": {},
   "source": [
    "2. **Que tanto influencia el que una cancion tenga mucha o poca letra?**\n",
    "* H0: No hay diferencia en la popularidad de las canciones con alto y bajo contenido vocal.\n",
    "* H1: Hay una diferencia en la popularidad de las canciones con alto y bajo contenido vocal.\n"
   ]
  },
  {
   "cell_type": "code",
   "execution_count": 51,
   "id": "ea40277d",
   "metadata": {},
   "outputs": [
    {
     "name": "stdout",
     "output_type": "stream",
     "text": [
      "Prueba de vocalidad/instrumentalidad\n",
      "Estadístico t: -26.919229939463325 , Valor p: 3.861590784329301e-145\n"
     ]
    }
   ],
   "source": [
    "alto_instrumentalness = df[df['instrumentalness'] > 0.5]['track_popularity'].dropna()\n",
    "bajo_instrumentalness = df[df['instrumentalness'] <= 0.5]['track_popularity'].dropna()\n",
    "\n",
    "t_stat, p_value = stats.ttest_ind(alto_instrumentalness, bajo_instrumentalness, equal_var=False)\n",
    "print(\"Prueba de vocalidad/instrumentalidad\")\n",
    "print(\"Estadístico t:\", t_stat, \", Valor p:\", p_value)"
   ]
  },
  {
   "cell_type": "markdown",
   "id": "27301833",
   "metadata": {},
   "source": [
    "**Este valor p extremadamente bajo indica que hay una diferencia estadísticamente significativa en la popularidad entre canciones con alto y bajo contenido vocal. \n",
    "El estadístico t negativo sugiere que las canciones con menor contenido vocal (más instrumentales) tienden a ser más populares.**"
   ]
  },
  {
   "cell_type": "markdown",
   "id": "b6cf9583",
   "metadata": {},
   "source": [
    "3. **Que tanto influencia que una cancion sea bailable en su popularidad?**\n",
    "\n",
    "* H0: No hay diferencia en la popularidad de las canciones dependiendo de que tan bailables son.\n",
    "* H1: Hay una diferencia en la popularidad de las canciones dependiendo de que tan bailables son."
   ]
  },
  {
   "cell_type": "code",
   "execution_count": 52,
   "id": "aba70d50",
   "metadata": {
    "scrolled": true
   },
   "outputs": [
    {
     "name": "stdout",
     "output_type": "stream",
     "text": [
      "Prueba de vocalidad/instrumentalidad\n",
      "Estadístico t: 5.650991241821853 , Valor p: 1.659560507761318e-08\n"
     ]
    }
   ],
   "source": [
    "muy_bailable = df[df['danceability'] > 0.5]['track_popularity'].dropna()\n",
    "poco_bailable = df[df['danceability'] <= 0.5]['track_popularity'].dropna()\n",
    "\n",
    "t_stat, p_value = stats.ttest_ind(muy_bailable, poco_bailable, equal_var=False)\n",
    "print(\"Prueba de bailabilidad\")\n",
    "print(\"Estadístico t:\", t_stat, \", Valor p:\", p_value)"
   ]
  },
  {
   "cell_type": "markdown",
   "id": "3be82662",
   "metadata": {},
   "source": [
    "**Un valor p muy bajo también indica una diferencia significativa en la popularidad entre canciones muy bailables y poco bailables. El estadístico t positivo sugiere que las canciones más bailables tienden a ser más populares.**"
   ]
  },
  {
   "cell_type": "markdown",
   "id": "0c167d55",
   "metadata": {},
   "source": [
    "4. **Que tanto influencia la duracion de una cancion en su popularidad?**\n",
    "\n",
    "* H0: La duracion de una cancion no influencia en su popularidad\n",
    "* H1: Hay diferencia en popularidad entre canciones cortas y largas"
   ]
  },
  {
   "cell_type": "code",
   "execution_count": 63,
   "id": "262125a7",
   "metadata": {
    "scrolled": false
   },
   "outputs": [
    {
     "name": "stdout",
     "output_type": "stream",
     "text": [
      "Prueba de Duracion\n",
      "Estadístico t: -20.366518930000616\n",
      "Valor p: 1.2287880592394535e-91\n"
     ]
    }
   ],
   "source": [
    "umbral_duracion = df['duration_ms'].median()\n",
    "\n",
    "largas = df[df['duration_ms'] > umbral_duracion]['track_popularity'].dropna()\n",
    "cortas = df[df['duration_ms'] <= umbral_duracion]['track_popularity'].dropna()\n",
    "\n",
    "# Realizar una prueba t de Student\n",
    "t_stat_duracion, p_value_duracion = stats.ttest_ind(largas, cortas, equal_var=False)\n",
    "\n",
    "print(\"Prueba de Duracion\")\n",
    "print(f\"Estadístico t: {t_stat_duracion}\")\n",
    "print(f\"Valor p: {p_value_duracion}\")"
   ]
  },
  {
   "cell_type": "markdown",
   "id": "3ce863c8",
   "metadata": {},
   "source": [
    "**Un valor p extremadamente bajo indica una diferencia significativa en la popularidad entre canciones largas y cortas. El estadístico t negativo sugiere que las canciones más cortas tienden a ser más populares.**"
   ]
  },
  {
   "cell_type": "markdown",
   "id": "5cdb732f",
   "metadata": {},
   "source": [
    "5. **Hoy en dia, existe diferencia entre el pop y el rap?**"
   ]
  },
  {
   "cell_type": "code",
   "execution_count": 72,
   "id": "e030319a",
   "metadata": {},
   "outputs": [
    {
     "name": "stdout",
     "output_type": "stream",
     "text": [
      "Prueba de género - Estadístico t: 9.89738284492779 , Valor p: 5.32112434399586e-23\n"
     ]
    }
   ],
   "source": [
    "popularidad_pop = df[df['playlist_genre'] == 'Pop']['track_popularity'].dropna()\n",
    "popularidad_rap = df[df['playlist_genre'] == 'Rap']['track_popularity'].dropna()\n",
    "\n",
    "t_stat_genero, p_value_genero = stats.ttest_ind(popularidad_pop, popularidad_rap, equal_var=False)\n",
    "print(\"Prueba de género - Estadístico t:\", t_stat_genero, \", Valor p:\", p_value_genero)"
   ]
  },
  {
   "cell_type": "markdown",
   "id": "bfbafd45",
   "metadata": {},
   "source": [
    "**Existe diferencia entre el pop y el rock; el estadistico t positivo nos dice que el pop es mas popular**"
   ]
  },
  {
   "cell_type": "markdown",
   "id": "2159170f",
   "metadata": {},
   "source": [
    "6. **Son mas populares las canciones ruidosas?**"
   ]
  },
  {
   "cell_type": "code",
   "execution_count": 106,
   "id": "f4e1b4d5",
   "metadata": {},
   "outputs": [],
   "source": [
    "percentil_75_popularidad = df['track_popularity'].quantile(0.75)\n",
    "canciones_populares = df[df['track_popularity'] >= percentil_75_popularidad]['loudness']\n",
    "canciones_menos_populares = df[df['track_popularity'] < percentil_50_popularidad]['loudness']\n"
   ]
  },
  {
   "cell_type": "code",
   "execution_count": 98,
   "id": "eb4e9fac",
   "metadata": {},
   "outputs": [
    {
     "name": "stdout",
     "output_type": "stream",
     "text": [
      "Estadístico t: 8.34395707704962\n",
      "Valor p: 7.463805302704826e-17\n"
     ]
    }
   ],
   "source": [
    "t_stat_loudness, p_value_loudness = stats.ttest_ind(canciones_populares.dropna(), canciones_menos_populares.dropna(), equal_var=False)\n",
    "\n",
    "print(f\"Estadístico t: {t_stat_loudness}\")\n",
    "print(f\"Valor p: {p_value_loudness}\")"
   ]
  },
  {
   "cell_type": "markdown",
   "id": "f657a5c0",
   "metadata": {},
   "source": [
    "**Se rechaza la hipotesis nula; el valor t nos indica que las canciones ruidosas suelen ser mas populares**"
   ]
  },
  {
   "cell_type": "markdown",
   "id": "1eb431c0",
   "metadata": {},
   "source": [
    "# Maxima Verosimilitud"
   ]
  },
  {
   "cell_type": "markdown",
   "id": "dea25912",
   "metadata": {},
   "source": [
    "Considerando los valores que sabemos influencian la popularidad de una cancion, aproximemos las medias de las caracteristicas de canciones populares"
   ]
  },
  {
   "cell_type": "code",
   "execution_count": 75,
   "id": "a12bd500",
   "metadata": {},
   "outputs": [],
   "source": [
    "def ms_a_minutos_segundos(milisegundos):\n",
    "    minutos = int(milisegundos // 60000)\n",
    "    segundos = int((milisegundos % 60000) / 1000)\n",
    "    return f\"{minutos}:{segundos:02d}\""
   ]
  },
  {
   "cell_type": "code",
   "execution_count": 216,
   "id": "2d0fa99d",
   "metadata": {},
   "outputs": [
    {
     "name": "stdout",
     "output_type": "stream",
     "text": [
      "Una cancion popular tiene una media estimada de duración: 3:39\n",
      "Una cancion popular tiene una media estimada de volumen: -6.291661420118344\n",
      "Una cancion popular tiene una media estimada de instrumentalidad: 0.02491247337514793\n"
     ]
    }
   ],
   "source": [
    "cuartil_superior = df[df['track_popularity'] >= df['track_popularity'].quantile(0.75)]\n",
    "\n",
    "media_duracion, _ = norm.fit(cuartil_superior['duration_ms'])\n",
    "media_volumen, _ = norm.fit(cuartil_superior['loudness'])\n",
    "media_instrumentalidad, _ = norm.fit(cuartil_superior['instrumentalness'])\n",
    "\n",
    "print(f\"Una cancion popular tiene una media estimada de duración: {ms_a_minutos_segundos(media_duracion)}\")\n",
    "print(f\"Una cancion popular tiene una media estimada de volumen: {media_volumen}\")\n",
    "print(f\"Una cancion popular tiene una media estimada de instrumentalidad: {media_instrumentalidad}\")"
   ]
  },
  {
   "cell_type": "markdown",
   "id": "c44f48b7",
   "metadata": {},
   "source": [
    "# Intervalos de Confianza"
   ]
  },
  {
   "cell_type": "markdown",
   "id": "5bfc0713",
   "metadata": {},
   "source": [
    "Habiendo hecho hipotesis sobre los factores que influencian la popularidad de una cancion, y sabiendo como se ven las medias estimadas de las caracteristicas, quiero saber mas o menos que caracteristicas deberia tener una cancion popular"
   ]
  },
  {
   "cell_type": "markdown",
   "id": "a788152e",
   "metadata": {},
   "source": [
    "1. **Que duracion tendra una cancion popular?** Usemos las canciones populares para verlo"
   ]
  },
  {
   "cell_type": "code",
   "execution_count": 233,
   "id": "a51bb4df",
   "metadata": {},
   "outputs": [
    {
     "name": "stdout",
     "output_type": "stream",
     "text": [
      "Intervalo de confianza al 95% para la duración de las canciones populares (en minutos y segundos): 3:38 - 3:40\n"
     ]
    }
   ],
   "source": [
    "percentil_75_popularidad = df['track_popularity'].quantile(0.75)\n",
    "canciones_populares = df[df['track_popularity'] >= percentil_75_popularidad]['duration_ms']\n",
    "\n",
    "media_duracion = canciones_populares.mean()\n",
    "stderr_duracion = stats.sem(canciones_populares)\n",
    "margen_error = stderr_duracion * stats.t.ppf((1 + 0.95) / 2, len(canciones_populares) - 1)\n",
    "\n",
    "intervalo_confianza_duracion = ((media_duracion - margen_error)*0.001, (media_duracion + margen_error)*0.001)\n",
    "\n",
    "intervalo_confianza_min_seg_inferior = ms_a_minutos_segundos((media_duracion - margen_error))\n",
    "intervalo_confianza_min_seg_superior = ms_a_minutos_segundos((media_duracion + margen_error))\n",
    "\n",
    "print(f\"Intervalo de confianza al 95% para la duración de las canciones populares (en minutos y segundos): {intervalo_confianza_min_seg_inferior} - {intervalo_confianza_min_seg_superior}\")"
   ]
  },
  {
   "cell_type": "code",
   "execution_count": 225,
   "id": "02c68005",
   "metadata": {},
   "outputs": [
    {
     "data": {
      "image/png": "[encoded data removed]",
      "text/plain": [
       "<Figure size 640x480 with 1 Axes>"
      ]
     },
     "metadata": {},
     "output_type": "display_data"
    }
   ],
   "source": [
    "canciones_populares = df[df['track_popularity'] >= df['track_popularity'].quantile(0.75)]\n",
    "\n",
    "sns.kdeplot(canciones_populares['duration_ms'], fill=True)\n",
    "plt.axvline(x=intervalo_confianza_duracion[0]/0.001, color='red', linestyle='--')\n",
    "\n",
    "plt.axvline(x=media_duracion, color='blue', linestyle='--')\n",
    "\n",
    "plt.axvline(x=intervalo_confianza_duracion[1]/0.001, color='red', linestyle='--')\n",
    "plt.title('Distribución de duracion de canciones populares con Intervalo de Confianza')\n",
    "plt.show()"
   ]
  },
  {
   "cell_type": "markdown",
   "id": "3cfd5099",
   "metadata": {},
   "source": [
    "**Una cancion popular generalmente dura alrededor de 3:38-3:40**"
   ]
  },
  {
   "cell_type": "markdown",
   "id": "f8f5cbc8",
   "metadata": {},
   "source": [
    "2. **Que ratio de bailabilidad, volumen, e instrumentalidad debe tener una cancion popular?**"
   ]
  },
  {
   "cell_type": "code",
   "execution_count": 103,
   "id": "cc6c6669",
   "metadata": {},
   "outputs": [
    {
     "name": "stdout",
     "output_type": "stream",
     "text": [
      "Intervalo de confianza al 95% para la bailabilidad: (0.6654343050554368, 0.6716540026368709)\n"
     ]
    }
   ],
   "source": [
    "percentil_75_popularidad = df['track_popularity'].quantile(0.75)\n",
    "canciones_populares = df[df['track_popularity'] >= percentil_75_popularidad]\n",
    "\n",
    "media_bailabilidad = canciones_populares['danceability'].mean()\n",
    "stderr_bailabilidad = stats.sem(canciones_populares['danceability'].dropna())\n",
    "margen_error_bailabilidad = stderr_bailabilidad * stats.t.ppf((1 + 0.95) / 2, len(canciones_populares['danceability']) - 1)\n",
    "intervalo_confianza_bailabilidad = (media_bailabilidad - margen_error_bailabilidad, media_bailabilidad + margen_error_bailabilidad)\n",
    "\n",
    "print(f\"Intervalo de confianza al 95% para la bailabilidad: {intervalo_confianza_bailabilidad}\")"
   ]
  },
  {
   "cell_type": "code",
   "execution_count": 217,
   "id": "a1f13f3d",
   "metadata": {},
   "outputs": [
    {
     "data": {
      "image/png": "[encoded data removed]",
      "text/plain": [
       "<Figure size 640x480 with 1 Axes>"
      ]
     },
     "metadata": {},
     "output_type": "display_data"
    }
   ],
   "source": [
    "canciones_populares = df[df['track_popularity'] >= df['track_popularity'].quantile(0.75)]\n",
    "\n",
    "sns.kdeplot(canciones_populares['danceability'], fill=True)\n",
    "plt.axvline(x=intervalo_confianza_bailabilidad[0], color='red', linestyle='--')\n",
    "\n",
    "plt.axvline(x=media_bailabilidad, color='blue', linestyle='--')\n",
    "\n",
    "plt.axvline(x=intervalo_confianza_bailabilidad[1], color='red', linestyle='--')\n",
    "plt.title('Distribución de Bailabilidad de canciones populares')\n",
    "plt.show()"
   ]
  },
  {
   "cell_type": "code",
   "execution_count": 104,
   "id": "47d3cc70",
   "metadata": {},
   "outputs": [
    {
     "name": "stdout",
     "output_type": "stream",
     "text": [
      "Intervalo de confianza al 95% para la instrumentalidad: (0.022442011301076308, 0.027382935449219555)\n"
     ]
    }
   ],
   "source": [
    "media_instrumentalidad = canciones_populares['instrumentalness'].mean()\n",
    "stderr_instrumentalidad = stats.sem(canciones_populares['instrumentalness'].dropna())\n",
    "margen_error_instrumentalidad = stderr_instrumentalidad * stats.t.ppf((1 + 0.95) / 2, len(canciones_populares['instrumentalness']) - 1)\n",
    "intervalo_confianza_instrumentalidad = (media_instrumentalidad - margen_error_instrumentalidad, media_instrumentalidad + margen_error_instrumentalidad)\n",
    "\n",
    "print(f\"Intervalo de confianza al 95% para la instrumentalidad: {intervalo_confianza_instrumentalidad}\")"
   ]
  },
  {
   "cell_type": "code",
   "execution_count": 219,
   "id": "dd4752b6",
   "metadata": {},
   "outputs": [
    {
     "data": {
      "image/png": "[encoded data removed]",
      "text/plain": [
       "<Figure size 640x480 with 1 Axes>"
      ]
     },
     "metadata": {},
     "output_type": "display_data"
    }
   ],
   "source": [
    "canciones_populares = df[df['track_popularity'] >= df['track_popularity'].quantile(0.75)]\n",
    "\n",
    "sns.kdeplot(canciones_populares['instrumentalness'], fill=True)\n",
    "plt.axvline(x=intervalo_confianza_instrumentalidad[0], color='red', linestyle='--')\n",
    "\n",
    "plt.axvline(x=media_instrumentalidad, color='blue', linestyle='--')\n",
    "\n",
    "plt.axvline(x=intervalo_confianza_instrumentalidad[1], color='red', linestyle='--')\n",
    "plt.title('Distribución de Instrumentalidad de canciones populares con Intervalo de Confianza')\n",
    "plt.show()"
   ]
  },
  {
   "cell_type": "code",
   "execution_count": 236,
   "id": "77800753",
   "metadata": {},
   "outputs": [
    {
     "name": "stdout",
     "output_type": "stream",
     "text": [
      "Intervalo de confianza al 95% para el volumen: (-6.348568558548645, -6.234754281688043)\n"
     ]
    }
   ],
   "source": [
    "percentil_75_popularidad = df['track_popularity'].quantile(0.75)\n",
    "canciones_populares = df[df['track_popularity'] >= percentil_75_popularidad]['loudness']\n",
    "canciones_menos_populares = df[df['track_popularity'] < percentil_50_popularidad]['loudness']\n",
    "\n",
    "media_volumen = canciones_populares.mean()\n",
    "stderr_volumen = stats.sem(canciones_populares.dropna())\n",
    "margen_error_volumen = stderr_volumen * stats.t.ppf((1 + 0.95) / 2, len(canciones_populares) - 1)\n",
    "intervalo_confianza_volumen = (media_volumen - margen_error_volumen, media_volumen + margen_error_volumen)\n",
    "\n",
    "print(f\"Intervalo de confianza al 95% para el volumen: {intervalo_confianza_volumen}\")"
   ]
  },
  {
   "cell_type": "code",
   "execution_count": 237,
   "id": "37693157",
   "metadata": {},
   "outputs": [
    {
     "data": {
      "image/png": "[encoded data removed]",
      "text/plain": [
       "<Figure size 640x480 with 1 Axes>"
      ]
     },
     "metadata": {},
     "output_type": "display_data"
    }
   ],
   "source": [
    "canciones_populares = df[df['track_popularity'] >= df['track_popularity'].quantile(0.75)]\n",
    "\n",
    "sns.kdeplot(canciones_populares['loudness'], fill=True)\n",
    "plt.axvline(x=intervalo_confianza_volumen[0], color='red', linestyle='--')\n",
    "plt.axvline(x=intervalo_confianza_volumen[1], color='red', linestyle='--')\n",
    "plt.title('Distribución de Volumen de canciones populares con Intervalo de Confianza')\n",
    "plt.show()"
   ]
  },
  {
   "cell_type": "markdown",
   "id": "7bad5af4",
   "metadata": {},
   "source": [
    "# Conclusiones"
   ]
  },
  {
   "cell_type": "markdown",
   "id": "3626e573",
   "metadata": {},
   "source": [
    "De nuestras pruebas de hipotesis pudimos obtener varias observaciones sobre las canciones que son populares:\n",
    "\n",
    "    - Tienen mas instrumentalidad y menos contenido vocal\n",
    "    - Son mas bailables\n",
    "    - Son mas ruidosas\n",
    "    - El pop es mas popular que el rap, que a su vez es mas popular que el rock; El rock ha muerto"
   ]
  },
  {
   "cell_type": "markdown",
   "id": "a0bcc696",
   "metadata": {},
   "source": [
    "**Analizemos algunas canciones populares que cumplan con los criterios dados por los intervalos de confianza** "
   ]
  },
  {
   "cell_type": "code",
   "execution_count": 173,
   "id": "1fd45ced",
   "metadata": {
    "scrolled": false
   },
   "outputs": [
    {
     "data": {
      "text/html": [
       "<div>\n",
       "<style scoped>\n",
       "    .dataframe tbody tr th:only-of-type {\n",
       "        vertical-align: middle;\n",
       "    }\n",
       "\n",
       "    .dataframe tbody tr th {\n",
       "        vertical-align: top;\n",
       "    }\n",
       "\n",
       "    .dataframe thead th {\n",
       "        text-align: right;\n",
       "    }\n",
       "</style>\n",
       "<table border=\"1\" class=\"dataframe\">\n",
       "  <thead>\n",
       "    <tr style=\"text-align: right;\">\n",
       "      <th></th>\n",
       "      <th>track_name</th>\n",
       "      <th>track_artist</th>\n",
       "      <th>track_popularity</th>\n",
       "    </tr>\n",
       "  </thead>\n",
       "  <tbody>\n",
       "  </tbody>\n",
       "</table>\n",
       "</div>"
      ],
      "text/plain": [
       "Empty DataFrame\n",
       "Columns: [track_name, track_artist, track_popularity]\n",
       "Index: []"
      ]
     },
     "execution_count": 173,
     "metadata": {},
     "output_type": "execute_result"
    }
   ],
   "source": [
    "canciones_cumplen_criterios = df[\n",
    "    (df['duration_ms'] >= intervalo_confianza_duracion[0]/0.001) &\n",
    "    (df['duration_ms'] <= intervalo_confianza_duracion[1]/0.001) &\n",
    "    (df['danceability'] >= intervalo_confianza_bailabilidad[0]) &\n",
    "    (df['danceability'] <= intervalo_confianza_bailabilidad[1]) &\n",
    "    (df['instrumentalness'] >= intervalo_confianza_instrumentalidad[0]) &\n",
    "    (df['instrumentalness'] <= intervalo_confianza_instrumentalidad[1]) &\n",
    "    (df['loudness'] >= intervalo_confianza_volumen[0]) &\n",
    "    (df['loudness'] <= intervalo_confianza_volumen[1])\n",
    "]\n",
    "\n",
    "canciones_cumplen_criterios[['track_name', 'track_artist', 'track_popularity']].sort_values(by='track_popularity', ascending=False)"
   ]
  },
  {
   "cell_type": "markdown",
   "id": "936c28e7",
   "metadata": {},
   "source": [
    "#### En realidad, podemos ver que ninguna cancion hasta ahora cumple con los requisitos exactos de -todos- los criterios que usamos para determinar si una cancion era buena. Solo aligerando un poco los filtros, podemos llegar a ver algunas canciones que si lo cumplan"
   ]
  },
  {
   "cell_type": "code",
   "execution_count": 169,
   "id": "814f6a13",
   "metadata": {},
   "outputs": [
    {
     "data": {
      "text/html": [
       "<div>\n",
       "<style scoped>\n",
       "    .dataframe tbody tr th:only-of-type {\n",
       "        vertical-align: middle;\n",
       "    }\n",
       "\n",
       "    .dataframe tbody tr th {\n",
       "        vertical-align: top;\n",
       "    }\n",
       "\n",
       "    .dataframe thead th {\n",
       "        text-align: right;\n",
       "    }\n",
       "</style>\n",
       "<table border=\"1\" class=\"dataframe\">\n",
       "  <thead>\n",
       "    <tr style=\"text-align: right;\">\n",
       "      <th></th>\n",
       "      <th>track_name</th>\n",
       "      <th>track_artist</th>\n",
       "      <th>track_popularity</th>\n",
       "    </tr>\n",
       "  </thead>\n",
       "  <tbody>\n",
       "    <tr>\n",
       "      <th>28918</th>\n",
       "      <td>Monster</td>\n",
       "      <td>LUM!X</td>\n",
       "      <td>77</td>\n",
       "    </tr>\n",
       "    <tr>\n",
       "      <th>10321</th>\n",
       "      <td>Angst</td>\n",
       "      <td>INZO</td>\n",
       "      <td>53</td>\n",
       "    </tr>\n",
       "    <tr>\n",
       "      <th>31770</th>\n",
       "      <td>Monster</td>\n",
       "      <td>LUM!X</td>\n",
       "      <td>52</td>\n",
       "    </tr>\n",
       "    <tr>\n",
       "      <th>9273</th>\n",
       "      <td>Bunker</td>\n",
       "      <td>Sa4</td>\n",
       "      <td>44</td>\n",
       "    </tr>\n",
       "    <tr>\n",
       "      <th>30431</th>\n",
       "      <td>Dirty Wine</td>\n",
       "      <td>R-Cue</td>\n",
       "      <td>36</td>\n",
       "    </tr>\n",
       "    <tr>\n",
       "      <th>9741</th>\n",
       "      <td>Presente</td>\n",
       "      <td>Control Machete</td>\n",
       "      <td>35</td>\n",
       "    </tr>\n",
       "    <tr>\n",
       "      <th>28882</th>\n",
       "      <td>She Likes It</td>\n",
       "      <td>Mike L</td>\n",
       "      <td>32</td>\n",
       "    </tr>\n",
       "    <tr>\n",
       "      <th>2120</th>\n",
       "      <td>The Bad Touch</td>\n",
       "      <td>Bloodhound Gang</td>\n",
       "      <td>11</td>\n",
       "    </tr>\n",
       "  </tbody>\n",
       "</table>\n",
       "</div>"
      ],
      "text/plain": [
       "          track_name     track_artist  track_popularity\n",
       "28918        Monster            LUM!X                77\n",
       "10321          Angst             INZO                53\n",
       "31770        Monster            LUM!X                52\n",
       "9273          Bunker              Sa4                44\n",
       "30431     Dirty Wine            R-Cue                36\n",
       "9741        Presente  Control Machete                35\n",
       "28882   She Likes It           Mike L                32\n",
       "2120   The Bad Touch  Bloodhound Gang                11"
      ]
     },
     "execution_count": 169,
     "metadata": {},
     "output_type": "execute_result"
    }
   ],
   "source": [
    "canciones_cumplen_criterios = df[\n",
    "    (df['instrumentalness'] >= intervalo_confianza_instrumentalidad[0]) &\n",
    "    (df['instrumentalness'] <= intervalo_confianza_instrumentalidad[1]) &\n",
    "    (df['loudness'] >= intervalo_confianza_volumen[0]) &\n",
    "    (df['loudness'] <= intervalo_confianza_volumen[1])\n",
    "]\n",
    "\n",
    "canciones_cumplen_criterios[['track_name', 'track_artist', 'track_popularity']].sort_values(by='track_popularity', ascending=False)"
   ]
  },
  {
   "cell_type": "code",
   "execution_count": 156,
   "id": "3370cd07",
   "metadata": {},
   "outputs": [
    {
     "data": {
      "text/html": [
       "<div>\n",
       "<style scoped>\n",
       "    .dataframe tbody tr th:only-of-type {\n",
       "        vertical-align: middle;\n",
       "    }\n",
       "\n",
       "    .dataframe tbody tr th {\n",
       "        vertical-align: top;\n",
       "    }\n",
       "\n",
       "    .dataframe thead th {\n",
       "        text-align: right;\n",
       "    }\n",
       "</style>\n",
       "<table border=\"1\" class=\"dataframe\">\n",
       "  <thead>\n",
       "    <tr style=\"text-align: right;\">\n",
       "      <th></th>\n",
       "      <th>track_name</th>\n",
       "      <th>track_artist</th>\n",
       "      <th>track_popularity</th>\n",
       "    </tr>\n",
       "  </thead>\n",
       "  <tbody>\n",
       "    <tr>\n",
       "      <th>17173</th>\n",
       "      <td>Back Around</td>\n",
       "      <td>Sole Sole</td>\n",
       "      <td>43</td>\n",
       "    </tr>\n",
       "    <tr>\n",
       "      <th>17169</th>\n",
       "      <td>Meet You There</td>\n",
       "      <td>Max Lean</td>\n",
       "      <td>39</td>\n",
       "    </tr>\n",
       "    <tr>\n",
       "      <th>4482</th>\n",
       "      <td>King's Cup</td>\n",
       "      <td>Charlee Remitz</td>\n",
       "      <td>19</td>\n",
       "    </tr>\n",
       "    <tr>\n",
       "      <th>7785</th>\n",
       "      <td>Run to the Money</td>\n",
       "      <td>D'african</td>\n",
       "      <td>16</td>\n",
       "    </tr>\n",
       "    <tr>\n",
       "      <th>26787</th>\n",
       "      <td>Numb</td>\n",
       "      <td>Max Jury</td>\n",
       "      <td>1</td>\n",
       "    </tr>\n",
       "    <tr>\n",
       "      <th>18023</th>\n",
       "      <td>Como Soy</td>\n",
       "      <td>Mane de la Parra</td>\n",
       "      <td>0</td>\n",
       "    </tr>\n",
       "  </tbody>\n",
       "</table>\n",
       "</div>"
      ],
      "text/plain": [
       "             track_name      track_artist  track_popularity\n",
       "17173       Back Around         Sole Sole                43\n",
       "17169    Meet You There          Max Lean                39\n",
       "4482         King's Cup    Charlee Remitz                19\n",
       "7785   Run to the Money         D'african                16\n",
       "26787              Numb          Max Jury                 1\n",
       "18023          Como Soy  Mane de la Parra                 0"
      ]
     },
     "execution_count": 156,
     "metadata": {},
     "output_type": "execute_result"
    }
   ],
   "source": [
    "canciones_cumplen_criterios = df[\n",
    "    (df['danceability'] >= intervalo_confianza_bailabilidad[0]) &\n",
    "    (df['danceability'] <= intervalo_confianza_bailabilidad[1]) &\n",
    "    (df['loudness'] >= intervalo_confianza_volumen[0]) &\n",
    "    (df['loudness'] <= intervalo_confianza_volumen[1])\n",
    "]\n",
    "\n",
    "canciones_cumplen_criterios[['track_name', 'track_artist', 'track_popularity']].sort_values(by='track_popularity', ascending=False)"
   ]
  },
  {
   "cell_type": "code",
   "execution_count": 166,
   "id": "7db807a2",
   "metadata": {
    "scrolled": true
   },
   "outputs": [
    {
     "data": {
      "text/html": [
       "<div>\n",
       "<style scoped>\n",
       "    .dataframe tbody tr th:only-of-type {\n",
       "        vertical-align: middle;\n",
       "    }\n",
       "\n",
       "    .dataframe tbody tr th {\n",
       "        vertical-align: top;\n",
       "    }\n",
       "\n",
       "    .dataframe thead th {\n",
       "        text-align: right;\n",
       "    }\n",
       "</style>\n",
       "<table border=\"1\" class=\"dataframe\">\n",
       "  <thead>\n",
       "    <tr style=\"text-align: right;\">\n",
       "      <th></th>\n",
       "      <th>track_name</th>\n",
       "      <th>track_artist</th>\n",
       "      <th>track_popularity</th>\n",
       "    </tr>\n",
       "  </thead>\n",
       "  <tbody>\n",
       "    <tr>\n",
       "      <th>43</th>\n",
       "      <td>bad guy (with Justin Bieber)</td>\n",
       "      <td>Billie Eilish</td>\n",
       "      <td>83</td>\n",
       "    </tr>\n",
       "    <tr>\n",
       "      <th>18381</th>\n",
       "      <td>bad guy (with Justin Bieber)</td>\n",
       "      <td>Billie Eilish</td>\n",
       "      <td>83</td>\n",
       "    </tr>\n",
       "    <tr>\n",
       "      <th>19794</th>\n",
       "      <td>bad guy (with Justin Bieber)</td>\n",
       "      <td>Billie Eilish</td>\n",
       "      <td>83</td>\n",
       "    </tr>\n",
       "    <tr>\n",
       "      <th>23802</th>\n",
       "      <td>bad guy (with Justin Bieber)</td>\n",
       "      <td>Billie Eilish</td>\n",
       "      <td>83</td>\n",
       "    </tr>\n",
       "    <tr>\n",
       "      <th>14149</th>\n",
       "      <td>Give It Away</td>\n",
       "      <td>Red Hot Chili Peppers</td>\n",
       "      <td>73</td>\n",
       "    </tr>\n",
       "    <tr>\n",
       "      <th>15434</th>\n",
       "      <td>Give It Away</td>\n",
       "      <td>Red Hot Chili Peppers</td>\n",
       "      <td>73</td>\n",
       "    </tr>\n",
       "    <tr>\n",
       "      <th>347</th>\n",
       "      <td>Apple Juice (feat. Carla Monroe) - MOTi Remix</td>\n",
       "      <td>SLATIN</td>\n",
       "      <td>63</td>\n",
       "    </tr>\n",
       "    <tr>\n",
       "      <th>5884</th>\n",
       "      <td>Take Me Back</td>\n",
       "      <td>WYS</td>\n",
       "      <td>60</td>\n",
       "    </tr>\n",
       "  </tbody>\n",
       "</table>\n",
       "</div>"
      ],
      "text/plain": [
       "                                          track_name           track_artist  \\\n",
       "43                      bad guy (with Justin Bieber)          Billie Eilish   \n",
       "18381                   bad guy (with Justin Bieber)          Billie Eilish   \n",
       "19794                   bad guy (with Justin Bieber)          Billie Eilish   \n",
       "23802                   bad guy (with Justin Bieber)          Billie Eilish   \n",
       "14149                                   Give It Away  Red Hot Chili Peppers   \n",
       "15434                                   Give It Away  Red Hot Chili Peppers   \n",
       "347    Apple Juice (feat. Carla Monroe) - MOTi Remix                 SLATIN   \n",
       "5884                                    Take Me Back                    WYS   \n",
       "\n",
       "       track_popularity  \n",
       "43                   83  \n",
       "18381                83  \n",
       "19794                83  \n",
       "23802                83  \n",
       "14149                73  \n",
       "15434                73  \n",
       "347                  63  \n",
       "5884                 60  "
      ]
     },
     "execution_count": 166,
     "metadata": {},
     "output_type": "execute_result"
    }
   ],
   "source": [
    "canciones_cumplen_criterios = df[\n",
    "    (df['instrumentalness'] >= intervalo_confianza_instrumentalidad[0]) &\n",
    "    (df['instrumentalness'] <= intervalo_confianza_duracion[1]) &\n",
    "    (df['danceability'] >= intervalo_confianza_bailabilidad[0]) &\n",
    "    (df['danceability'] <= intervalo_confianza_bailabilidad[1]) &\n",
    "    (df['track_popularity'] >= 60)\n",
    "].sort_values(by=['track_popularity'])\n",
    "\n",
    "canciones_cumplen_criterios[['track_name', 'track_artist', 'track_popularity']].sort_values(by='track_popularity', ascending=False)"
   ]
  },
  {
   "cell_type": "markdown",
   "id": "861866b1",
   "metadata": {},
   "source": [
    "# Analisis\n",
    "\n",
    "\n",
    "El análisis de características como la bailabilidad, la duración y la sonoridad ayuda a identificar tendencias actuales en la música popular, lo que es crucial para productores y artistas que buscan crear música que sea popular.\n",
    "\n",
    "Al entender qué hace que una canción sea popular, las compañías discográficas y los artistas pueden desarrollar estrategias de marketing más efectivas, enfocándose en promocionar canciones con características que se alinean con las preferencias del público.\n",
    "\n",
    "**Aun a pesar de todo esto, claro esta que el proceso de creacion de musica aun es bastante artesanal, y nunca podra ser completamente automatizado y decidido por criterios estadisticos.**"
   ]
  },
  {
   "cell_type": "markdown",
   "id": "4d5cbaa1",
   "metadata": {},
   "source": [
    "### Por ultimo, Disfrutemos algunas canciones que han sido validadas por ser estadisticamente buenas"
   ]
  },
  {
   "cell_type": "code",
   "execution_count": 191,
   "id": "3740dbcc",
   "metadata": {},
   "outputs": [],
   "source": [
    "from IPython.display import YouTubeVideo\n",
    "from IPython.display import HTML"
   ]
  },
  {
   "cell_type": "code",
   "execution_count": 249,
   "id": "97c0737a",
   "metadata": {
    "scrolled": true
   },
   "outputs": [
    {
     "data": {
      "text/html": [
       "<a href=\"https://www.youtube.com/watch?v=DyDfgMOUjCI\" target=\"_blank\">bad guy - billie eilish</a>"
      ],
      "text/plain": [
       "<IPython.core.display.HTML object>"
      ]
     },
     "execution_count": 249,
     "metadata": {},
     "output_type": "execute_result"
    }
   ],
   "source": [
    "video_url = \"https://www.youtube.com/watch?v=DyDfgMOUjCI\"\n",
    "HTML(f'<a href=\"{video_url}\" target=\"_blank\">bad guy - billie eilish</a>')"
   ]
  },
  {
   "cell_type": "code",
   "execution_count": 198,
   "id": "8ef381e3",
   "metadata": {},
   "outputs": [
    {
     "data": {
      "text/html": [
       "<a href=\"https://www.youtube.com/watch?v=VWNFj9rm6tc\" target=\"_blank\">Monster - Lum!x</a>"
      ],
      "text/plain": [
       "<IPython.core.display.HTML object>"
      ]
     },
     "execution_count": 198,
     "metadata": {},
     "output_type": "execute_result"
    }
   ],
   "source": [
    "video_url = \"https://www.youtube.com/watch?v=VWNFj9rm6tc\"\n",
    "HTML(f'<a href=\"{video_url}\" target=\"_blank\">Monster - Lum!x</a>')"
   ]
  },
  {
   "cell_type": "code",
   "execution_count": 199,
   "id": "9b5bd5a9",
   "metadata": {},
   "outputs": [
    {
     "data": {
      "text/html": [
       "<a href=\"https://www.youtube.com/watch?v=dQTGq3bXnTA\" target=\"_blank\">back around - Sole Sole</a>"
      ],
      "text/plain": [
       "<IPython.core.display.HTML object>"
      ]
     },
     "execution_count": 199,
     "metadata": {},
     "output_type": "execute_result"
    }
   ],
   "source": [
    "video_url = \"https://www.youtube.com/watch?v=dQTGq3bXnTA\"\n",
    "HTML(f'<a href=\"{video_url}\" target=\"_blank\">back around - Sole Sole</a>')"
   ]
  },
  {
   "cell_type": "markdown",
   "id": "2893828d",
   "metadata": {},
   "source": [
    "# Referencias"
   ]
  },
  {
   "cell_type": "markdown",
   "id": "47d91192",
   "metadata": {},
   "source": [
    "Thompson, C., Parry, J., Phipps, D., & Wolff, T. (n.d.). Spotifyr: A Comprehensive Analysis of Spotify Data. [https://www.rcharlie.com/spotifyr/](https://www.rcharlie.com/spotifyr/)"
   ]
  }
 ],
 "metadata": {
  "kernelspec": {
   "display_name": "Python 3 (ipykernel)",
   "language": "python",
   "name": "python3"
  },
  "language_info": {
   "codemirror_mode": {
    "name": "ipython",
    "version": 3
   },
   "file_extension": ".py",
   "mimetype": "text/x-python",
   "name": "python",
   "nbconvert_exporter": "python",
   "pygments_lexer": "ipython3",
   "version": "3.7.16"
  }
 },
 "nbformat": 4,
 "nbformat_minor": 5
}
